{
  "nbformat": 4,
  "nbformat_minor": 0,
  "metadata": {
    "colab": {
      "provenance": []
    },
    "kernelspec": {
      "name": "python3",
      "display_name": "Python 3"
    },
    "language_info": {
      "name": "python"
    },
    "widgets": {
      "application/vnd.jupyter.widget-state+json": {
        "547b047a49a446ba8a728ff196bbddd2": {
          "model_module": "yfiles-jupyter-graphs",
          "model_name": "GraphModel",
          "model_module_version": "^1.8.1",
          "state": {
            "_context_pane_mapping": [
              {
                "id": "Neighborhood",
                "title": "Neighborhood"
              },
              {
                "id": "Data",
                "title": "Data"
              },
              {
                "id": "Search",
                "title": "Search"
              },
              {
                "id": "About",
                "title": "About"
              }
            ],
            "_data_importer": "neo4j",
            "_directed": true,
            "_dom_classes": [],
            "_edges": [
              {
                "id": 1152922604118474800,
                "start": 1,
                "end": 2,
                "properties": {
                  "label": "RULER"
                },
                "label": "RULER",
                "color": "#9E9E9E",
                "thickness_factor": 1,
                "directed": true
              },
              {
                "id": 1155174403932160000,
                "start": 1,
                "end": 3,
                "properties": {
                  "label": "RULER"
                },
                "label": "RULER",
                "color": "#9E9E9E",
                "thickness_factor": 1,
                "directed": true
              },
              {
                "id": 1152923703630102500,
                "start": 1,
                "end": 4,
                "properties": {
                  "label": "MEMBER"
                },
                "label": "MEMBER",
                "color": "#9C27B0",
                "thickness_factor": 1,
                "directed": true
              },
              {
                "id": 1152924803141730300,
                "start": 1,
                "end": 5,
                "properties": {
                  "label": "PARENT"
                },
                "label": "PARENT",
                "color": "#2196F3",
                "thickness_factor": 1,
                "directed": true
              },
              {
                "id": 1155176602955415600,
                "start": 1,
                "end": 6,
                "properties": {
                  "label": "PARENT"
                },
                "label": "PARENT",
                "color": "#2196F3",
                "thickness_factor": 1,
                "directed": true
              },
              {
                "id": 1157428402769100800,
                "start": 1,
                "end": 13,
                "properties": {
                  "label": "PARENT"
                },
                "label": "PARENT",
                "color": "#2196F3",
                "thickness_factor": 1,
                "directed": true
              },
              {
                "id": 1152925902653358000,
                "start": 1,
                "end": 7,
                "properties": {
                  "label": "SIBLING"
                },
                "label": "SIBLING",
                "color": "#4CAF50",
                "thickness_factor": 1,
                "directed": true
              },
              {
                "id": 1152927002164985900,
                "start": 1,
                "end": 8,
                "properties": {
                  "label": "IGNORED_CLAIMS"
                },
                "label": "IGNORED_CLAIMS",
                "color": "#F44336",
                "thickness_factor": 1,
                "directed": true
              },
              {
                "id": 1155178801978671000,
                "start": 1,
                "end": 9,
                "properties": {
                  "label": "IGNORED_CLAIMS"
                },
                "label": "IGNORED_CLAIMS",
                "color": "#F44336",
                "thickness_factor": 1,
                "directed": true
              },
              {
                "id": 1152928101676613600,
                "start": 1,
                "end": 10,
                "properties": {
                  "label": "TRUSTED_ADVISER"
                },
                "label": "TRUSTED_ADVISER",
                "color": "#607D8B",
                "thickness_factor": 1,
                "directed": true
              },
              {
                "id": 1152929201188241400,
                "start": 1,
                "end": 11,
                "properties": {
                  "label": "CREATED"
                },
                "label": "CREATED",
                "color": "#673AB7",
                "thickness_factor": 1,
                "directed": true
              },
              {
                "id": 1152930300699869200,
                "start": 1,
                "end": 12,
                "properties": {
                  "label": "SUCCESSOR"
                },
                "label": "SUCCESSOR",
                "color": "#CDDC39",
                "thickness_factor": 1,
                "directed": true
              },
              {
                "id": 1152931400211497000,
                "start": 1,
                "end": 14,
                "properties": {
                  "label": "FOREIGN_AFFAIRS"
                },
                "label": "FOREIGN_AFFAIRS",
                "color": "#9E9E9E",
                "thickness_factor": 1,
                "directed": true
              },
              {
                "id": 1155183200025182200,
                "start": 1,
                "end": 15,
                "properties": {
                  "label": "FOREIGN_AFFAIRS"
                },
                "label": "FOREIGN_AFFAIRS",
                "color": "#9E9E9E",
                "thickness_factor": 1,
                "directed": true
              },
              {
                "id": 1152932499723124700,
                "start": 1,
                "end": 16,
                "properties": {
                  "label": "SECRET_SERVICE"
                },
                "label": "SECRET_SERVICE",
                "color": "#9C27B0",
                "thickness_factor": 1,
                "directed": true
              },
              {
                "id": 1159688998675808300,
                "start": 18,
                "end": 3,
                "properties": {
                  "label": "WAR"
                },
                "label": "WAR",
                "color": "#2196F3",
                "thickness_factor": 1,
                "directed": true
              },
              {
                "id": 1157437198862123000,
                "start": 18,
                "end": 14,
                "properties": {
                  "label": "WAR"
                },
                "label": "WAR",
                "color": "#2196F3",
                "thickness_factor": 1,
                "directed": true
              },
              {
                "id": 1152933599234752500,
                "start": 18,
                "end": 15,
                "properties": {
                  "label": "WAR"
                },
                "label": "WAR",
                "color": "#2196F3",
                "thickness_factor": 1,
                "directed": true
              },
              {
                "id": 1155185399048437800,
                "start": 18,
                "end": 19,
                "properties": {
                  "label": "WAR"
                },
                "label": "WAR",
                "color": "#2196F3",
                "thickness_factor": 1,
                "directed": true
              },
              {
                "id": 1152934698746380300,
                "start": 18,
                "end": 20,
                "properties": {
                  "label": "INFLUENCED"
                },
                "label": "INFLUENCED",
                "color": "#4CAF50",
                "thickness_factor": 1,
                "directed": true
              },
              {
                "id": 1155186498560065500,
                "start": 18,
                "end": 21,
                "properties": {
                  "label": "INFLUENCED"
                },
                "label": "INFLUENCED",
                "color": "#4CAF50",
                "thickness_factor": 1,
                "directed": true
              },
              {
                "id": 1157438298373750800,
                "start": 18,
                "end": 22,
                "properties": {
                  "label": "INFLUENCED"
                },
                "label": "INFLUENCED",
                "color": "#4CAF50",
                "thickness_factor": 1,
                "directed": true
              },
              {
                "id": 1159690098187436000,
                "start": 18,
                "end": 23,
                "properties": {
                  "label": "INFLUENCED"
                },
                "label": "INFLUENCED",
                "color": "#4CAF50",
                "thickness_factor": 1,
                "directed": true
              },
              {
                "id": 1152935798258008000,
                "start": 18,
                "end": 24,
                "properties": {
                  "label": "DEFEATED"
                },
                "label": "DEFEATED",
                "color": "#F44336",
                "thickness_factor": 1,
                "directed": true
              },
              {
                "id": 1152936897769635800,
                "start": 18,
                "end": 28,
                "properties": {
                  "label": "DAUGHTER"
                },
                "label": "DAUGHTER",
                "color": "#607D8B",
                "thickness_factor": 1,
                "directed": true
              },
              {
                "id": 1155188697583321000,
                "start": 18,
                "end": 46,
                "properties": {
                  "label": "DAUGHTER"
                },
                "label": "DAUGHTER",
                "color": "#607D8B",
                "thickness_factor": 1,
                "directed": true
              },
              {
                "id": 1152961087025447000,
                "start": 18,
                "end": 46,
                "properties": {
                  "label": "RAISED"
                },
                "label": "RAISED",
                "color": "#673AB7",
                "thickness_factor": 1,
                "directed": true
              },
              {
                "id": 6917585102734098000,
                "start": 18,
                "end": 94,
                "properties": {
                  "label": "APPOINTED"
                },
                "label": "APPOINTED",
                "color": "#CDDC39",
                "thickness_factor": 1,
                "directed": true
              },
              {
                "id": 1152922604118474800,
                "start": 26,
                "end": 27,
                "properties": {
                  "label": "RULER"
                },
                "label": "RULER",
                "color": "#9E9E9E",
                "thickness_factor": 1,
                "directed": true
              },
              {
                "id": 1155174403932160000,
                "start": 26,
                "end": 33,
                "properties": {
                  "label": "RULER"
                },
                "label": "RULER",
                "color": "#9E9E9E",
                "thickness_factor": 1,
                "directed": true
              },
              {
                "id": 1152925902653358000,
                "start": 26,
                "end": 29,
                "properties": {
                  "label": "SIBLING"
                },
                "label": "SIBLING",
                "color": "#4CAF50",
                "thickness_factor": 1,
                "directed": true
              },
              {
                "id": 1152936897769635800,
                "start": 26,
                "end": 28,
                "properties": {
                  "label": "DAUGHTER"
                },
                "label": "DAUGHTER",
                "color": "#607D8B",
                "thickness_factor": 1,
                "directed": true
              },
              {
                "id": 1152937997281263600,
                "start": 26,
                "end": 30,
                "properties": {
                  "label": "MOTHER"
                },
                "label": "MOTHER",
                "color": "#9E9E9E",
                "thickness_factor": 1,
                "directed": true
              },
              {
                "id": 1152939096792891400,
                "start": 26,
                "end": 31,
                "properties": {
                  "label": "NIECE"
                },
                "label": "NIECE",
                "color": "#9C27B0",
                "thickness_factor": 1,
                "directed": true
              },
              {
                "id": 1152940196304519200,
                "start": 26,
                "end": 32,
                "properties": {
                  "label": "COUSIN"
                },
                "label": "COUSIN",
                "color": "#2196F3",
                "thickness_factor": 1,
                "directed": true
              },
              {
                "id": 1152941295816147000,
                "start": 26,
                "end": 34,
                "properties": {
                  "label": "HEIR"
                },
                "label": "HEIR",
                "color": "#4CAF50",
                "thickness_factor": 1,
                "directed": true
              },
              {
                "id": 1152942395327774700,
                "start": 26,
                "end": 35,
                "properties": {
                  "label": "SUPPORTED"
                },
                "label": "SUPPORTED",
                "color": "#F44336",
                "thickness_factor": 1,
                "directed": true
              },
              {
                "id": 1152943494839402500,
                "start": 26,
                "end": 36,
                "properties": {
                  "label": "ENCOURAGED"
                },
                "label": "ENCOURAGED",
                "color": "#607D8B",
                "thickness_factor": 1,
                "directed": true
              },
              {
                "id": 1152944594351030300,
                "start": 26,
                "end": 37,
                "properties": {
                  "label": "FAVORED"
                },
                "label": "FAVORED",
                "color": "#673AB7",
                "thickness_factor": 1,
                "directed": true
              },
              {
                "id": 1152945693862658000,
                "start": 26,
                "end": 38,
                "properties": {
                  "label": "COLLABORATED"
                },
                "label": "COLLABORATED",
                "color": "#CDDC39",
                "thickness_factor": 1,
                "directed": true
              },
              {
                "id": 1152946793374285800,
                "start": 26,
                "end": 39,
                "properties": {
                  "label": "OPPONENT"
                },
                "label": "OPPONENT",
                "color": "#9E9E9E",
                "thickness_factor": 1,
                "directed": true
              },
              {
                "id": 1152955589467308000,
                "start": 28,
                "end": 18,
                "properties": {
                  "label": "FAVORITE"
                },
                "label": "FAVORITE",
                "color": "#9C27B0",
                "thickness_factor": 1,
                "directed": true
              },
              {
                "id": 1152956688978935800,
                "start": 28,
                "end": 18,
                "properties": {
                  "label": "RESEMBLANCE"
                },
                "label": "RESEMBLANCE",
                "color": "#2196F3",
                "thickness_factor": 1,
                "directed": true
              },
              {
                "id": 1152957788490563600,
                "start": 28,
                "end": 18,
                "properties": {
                  "label": "EDUCATION_LACK"
                },
                "label": "EDUCATION_LACK",
                "color": "#4CAF50",
                "thickness_factor": 1,
                "directed": true
              },
              {
                "id": 1152958888002191400,
                "start": 28,
                "end": 46,
                "properties": {
                  "label": "RAISE"
                },
                "label": "RAISE",
                "color": "#F44336",
                "thickness_factor": 1,
                "directed": true
              },
              {
                "id": 1152959987513819100,
                "start": 28,
                "end": 46,
                "properties": {
                  "label": "DIFFICULT_TASK"
                },
                "label": "DIFFICULT_TASK",
                "color": "#607D8B",
                "thickness_factor": 1,
                "directed": true
              },
              {
                "id": 1152950091909169200,
                "start": 39,
                "end": 41,
                "properties": {
                  "label": "SURRENDER"
                },
                "label": "SURRENDER",
                "color": "#673AB7",
                "thickness_factor": 1,
                "directed": true
              },
              {
                "id": 1152947892885913600,
                "start": 41,
                "end": 42,
                "properties": {
                  "label": "VICTORY"
                },
                "label": "VICTORY",
                "color": "#CDDC39",
                "thickness_factor": 1,
                "directed": true
              },
              {
                "id": 1152948992397541400,
                "start": 41,
                "end": 43,
                "properties": {
                  "label": "OCCUPATION"
                },
                "label": "OCCUPATION",
                "color": "#9E9E9E",
                "thickness_factor": 1,
                "directed": true
              },
              {
                "id": 1152951191420797000,
                "start": 44,
                "end": 44,
                "properties": {
                  "label": "DEATH"
                },
                "label": "DEATH",
                "color": "#9C27B0",
                "thickness_factor": 1,
                "directed": true
              }
            ],
            "_graph_layout": {},
            "_highlight": [],
            "_license": {},
            "_model_module": "yfiles-jupyter-graphs",
            "_model_module_version": "^1.8.1",
            "_model_name": "GraphModel",
            "_neighborhood": {},
            "_nodes": [
              {
                "id": 1,
                "properties": {
                  "id": "Elizabeth I",
                  "label": "__Entity__:Person"
                },
                "color": "#2196F3",
                "styles": {},
                "label": "Elizabeth I",
                "scale_factor": 1,
                "type": "#2196F3",
                "size": [
                  55,
                  55
                ],
                "position": [
                  0,
                  0
                ]
              },
              {
                "id": 2,
                "properties": {
                  "id": "England",
                  "label": "__Entity__:Country"
                },
                "color": "#4CAF50",
                "styles": {},
                "label": "England",
                "scale_factor": 1,
                "type": "#4CAF50",
                "size": [
                  55,
                  55
                ],
                "position": [
                  0,
                  0
                ]
              },
              {
                "id": 3,
                "properties": {
                  "id": "Ireland",
                  "label": "__Entity__:Country"
                },
                "color": "#4CAF50",
                "styles": {},
                "label": "Ireland",
                "scale_factor": 1,
                "type": "#4CAF50",
                "size": [
                  55,
                  55
                ],
                "position": [
                  0,
                  0
                ]
              },
              {
                "id": 4,
                "properties": {
                  "id": "House Of Tudor",
                  "label": "__Entity__:Monarchy"
                },
                "color": "#F44336",
                "styles": {},
                "label": "House Of Tudor",
                "scale_factor": 1,
                "type": "#F44336",
                "size": [
                  55,
                  55
                ],
                "position": [
                  0,
                  0
                ]
              },
              {
                "id": 5,
                "properties": {
                  "id": "Henry Viii",
                  "label": "__Entity__:Person"
                },
                "color": "#2196F3",
                "styles": {},
                "label": "Henry Viii",
                "scale_factor": 1,
                "type": "#2196F3",
                "size": [
                  55,
                  55
                ],
                "position": [
                  0,
                  0
                ]
              },
              {
                "id": 6,
                "properties": {
                  "id": "Anne Boleyn",
                  "label": "__Entity__:Person"
                },
                "color": "#2196F3",
                "styles": {},
                "label": "Anne Boleyn",
                "scale_factor": 1,
                "type": "#2196F3",
                "size": [
                  55,
                  55
                ],
                "position": [
                  0,
                  0
                ]
              },
              {
                "id": 13,
                "properties": {
                  "id": "Mary, Queen Of Scots",
                  "label": "__Entity__:Person"
                },
                "color": "#2196F3",
                "styles": {},
                "label": "Mary, Queen Of Scots",
                "scale_factor": 1,
                "type": "#2196F3",
                "size": [
                  55,
                  55
                ],
                "position": [
                  0,
                  0
                ]
              },
              {
                "id": 7,
                "properties": {
                  "id": "Edward Vi",
                  "label": "__Entity__:Person"
                },
                "color": "#2196F3",
                "styles": {},
                "label": "Edward Vi",
                "scale_factor": 1,
                "type": "#2196F3",
                "size": [
                  55,
                  55
                ],
                "position": [
                  0,
                  0
                ]
              },
              {
                "id": 8,
                "properties": {
                  "id": "Lady Jane Grey",
                  "label": "__Entity__:Person"
                },
                "color": "#2196F3",
                "styles": {},
                "label": "Lady Jane Grey",
                "scale_factor": 1,
                "type": "#2196F3",
                "size": [
                  55,
                  55
                ],
                "position": [
                  0,
                  0
                ]
              },
              {
                "id": 9,
                "properties": {
                  "id": "Mary",
                  "label": "__Entity__:Person"
                },
                "color": "#2196F3",
                "styles": {},
                "label": "Mary",
                "scale_factor": 1,
                "type": "#2196F3",
                "size": [
                  55,
                  55
                ],
                "position": [
                  0,
                  0
                ]
              },
              {
                "id": 10,
                "properties": {
                  "id": "William Cecil",
                  "label": "__Entity__:Person"
                },
                "color": "#2196F3",
                "styles": {},
                "label": "William Cecil",
                "scale_factor": 1,
                "type": "#2196F3",
                "size": [
                  55,
                  55
                ],
                "position": [
                  0,
                  0
                ]
              },
              {
                "id": 11,
                "properties": {
                  "id": "Baron Burghley",
                  "label": "__Entity__:Title"
                },
                "color": "#607D8B",
                "styles": {},
                "label": "Baron Burghley",
                "scale_factor": 1,
                "type": "#607D8B",
                "size": [
                  55,
                  55
                ],
                "position": [
                  0,
                  0
                ]
              },
              {
                "id": 12,
                "properties": {
                  "id": "James Vi Of Scotland",
                  "label": "__Entity__:Person"
                },
                "color": "#2196F3",
                "styles": {},
                "label": "James Vi Of Scotland",
                "scale_factor": 1,
                "type": "#2196F3",
                "size": [
                  55,
                  55
                ],
                "position": [
                  0,
                  0
                ]
              },
              {
                "id": 14,
                "properties": {
                  "id": "France",
                  "label": "__Entity__:Country:Concept"
                },
                "color": "#673AB7",
                "styles": {},
                "label": "France",
                "scale_factor": 1,
                "type": "#673AB7",
                "size": [
                  55,
                  55
                ],
                "position": [
                  0,
                  0
                ]
              },
              {
                "id": 15,
                "properties": {
                  "id": "Spain",
                  "label": "__Entity__:Country"
                },
                "color": "#4CAF50",
                "styles": {},
                "label": "Spain",
                "scale_factor": 1,
                "type": "#4CAF50",
                "size": [
                  55,
                  55
                ],
                "position": [
                  0,
                  0
                ]
              },
              {
                "id": 16,
                "properties": {
                  "id": "Sir Francis Walsingham",
                  "label": "__Entity__:Person"
                },
                "color": "#2196F3",
                "styles": {},
                "label": "Sir Francis Walsingham",
                "scale_factor": 1,
                "type": "#2196F3",
                "size": [
                  55,
                  55
                ],
                "position": [
                  0,
                  0
                ]
              },
              {
                "id": 18,
                "properties": {
                  "id": "Elizabeth",
                  "label": "__Entity__:Person"
                },
                "color": "#2196F3",
                "styles": {},
                "label": "Elizabeth",
                "scale_factor": 1,
                "type": "#2196F3",
                "size": [
                  55,
                  55
                ],
                "position": [
                  0,
                  0
                ]
              },
              {
                "id": 19,
                "properties": {
                  "id": "Netherlands",
                  "label": "__Entity__:Country"
                },
                "color": "#4CAF50",
                "styles": {},
                "label": "Netherlands",
                "scale_factor": 1,
                "type": "#4CAF50",
                "size": [
                  55,
                  55
                ],
                "position": [
                  0,
                  0
                ]
              },
              {
                "id": 20,
                "properties": {
                  "id": "William Shakespeare",
                  "label": "__Entity__:Person"
                },
                "color": "#2196F3",
                "styles": {},
                "label": "William Shakespeare",
                "scale_factor": 1,
                "type": "#2196F3",
                "size": [
                  55,
                  55
                ],
                "position": [
                  0,
                  0
                ]
              },
              {
                "id": 21,
                "properties": {
                  "id": "Christopher Marlowe",
                  "label": "__Entity__:Person"
                },
                "color": "#2196F3",
                "styles": {},
                "label": "Christopher Marlowe",
                "scale_factor": 1,
                "type": "#2196F3",
                "size": [
                  55,
                  55
                ],
                "position": [
                  0,
                  0
                ]
              },
              {
                "id": 22,
                "properties": {
                  "id": "Francis Drake",
                  "label": "__Entity__:Person"
                },
                "color": "#2196F3",
                "styles": {},
                "label": "Francis Drake",
                "scale_factor": 1,
                "type": "#2196F3",
                "size": [
                  55,
                  55
                ],
                "position": [
                  0,
                  0
                ]
              },
              {
                "id": 23,
                "properties": {
                  "id": "Walter Raleigh",
                  "label": "__Entity__:Person"
                },
                "color": "#2196F3",
                "styles": {},
                "label": "Walter Raleigh",
                "scale_factor": 1,
                "type": "#2196F3",
                "size": [
                  55,
                  55
                ],
                "position": [
                  0,
                  0
                ]
              },
              {
                "id": 24,
                "properties": {
                  "id": "Spanish Armada",
                  "label": "__Entity__:Event"
                },
                "color": "#CDDC39",
                "styles": {},
                "label": "Spanish Armada",
                "scale_factor": 1,
                "type": "#CDDC39",
                "size": [
                  55,
                  55
                ],
                "position": [
                  0,
                  0
                ]
              },
              {
                "id": 28,
                "properties": {
                  "id": "Peter The Great",
                  "label": "__Entity__:Person:Tsar"
                },
                "color": "#9E9E9E",
                "styles": {},
                "label": "Peter The Great",
                "scale_factor": 1,
                "type": "#9E9E9E",
                "size": [
                  55,
                  55
                ],
                "position": [
                  0,
                  0
                ]
              },
              {
                "id": 46,
                "properties": {
                  "id": "Catherine",
                  "label": "__Entity__:Person"
                },
                "color": "#2196F3",
                "styles": {},
                "label": "Catherine",
                "scale_factor": 1,
                "type": "#2196F3",
                "size": [
                  55,
                  55
                ],
                "position": [
                  0,
                  0
                ]
              },
              {
                "id": 94,
                "properties": {
                  "id": "Nicholas Hilliard",
                  "label": "__Entity__:Person"
                },
                "color": "#2196F3",
                "styles": {},
                "label": "Nicholas Hilliard",
                "scale_factor": 1,
                "type": "#2196F3",
                "size": [
                  55,
                  55
                ],
                "position": [
                  0,
                  0
                ]
              },
              {
                "id": 26,
                "properties": {
                  "id": "Elizabeth Petrovna",
                  "label": "__Entity__:Empress"
                },
                "color": "#9C27B0",
                "styles": {},
                "label": "Elizabeth Petrovna",
                "scale_factor": 1,
                "type": "#9C27B0",
                "size": [
                  55,
                  55
                ],
                "position": [
                  0,
                  0
                ]
              },
              {
                "id": 27,
                "properties": {
                  "id": "Russia",
                  "label": "__Entity__:Country"
                },
                "color": "#4CAF50",
                "styles": {},
                "label": "Russia",
                "scale_factor": 1,
                "type": "#4CAF50",
                "size": [
                  55,
                  55
                ],
                "position": [
                  0,
                  0
                ]
              },
              {
                "id": 33,
                "properties": {
                  "id": "Ivan Vi",
                  "label": "__Entity__:Person"
                },
                "color": "#2196F3",
                "styles": {},
                "label": "Ivan Vi",
                "scale_factor": 1,
                "type": "#2196F3",
                "size": [
                  55,
                  55
                ],
                "position": [
                  0,
                  0
                ]
              },
              {
                "id": 29,
                "properties": {
                  "id": "Alexei",
                  "label": "__Entity__:Person"
                },
                "color": "#2196F3",
                "styles": {},
                "label": "Alexei",
                "scale_factor": 1,
                "type": "#2196F3",
                "size": [
                  55,
                  55
                ],
                "position": [
                  0,
                  0
                ]
              },
              {
                "id": 30,
                "properties": {
                  "id": "Catherine I Of Russia",
                  "label": "__Entity__:Empress"
                },
                "color": "#9C27B0",
                "styles": {},
                "label": "Catherine I Of Russia",
                "scale_factor": 1,
                "type": "#9C27B0",
                "size": [
                  55,
                  55
                ],
                "position": [
                  0,
                  0
                ]
              },
              {
                "id": 31,
                "properties": {
                  "id": "Peter Ii",
                  "label": "__Entity__:Tsar"
                },
                "color": "#2196F3",
                "styles": {},
                "label": "Peter Ii",
                "scale_factor": 1,
                "type": "#2196F3",
                "size": [
                  55,
                  55
                ],
                "position": [
                  0,
                  0
                ]
              },
              {
                "id": 32,
                "properties": {
                  "id": "Anna",
                  "label": "__Entity__:Person:Empress"
                },
                "color": "#4CAF50",
                "styles": {},
                "label": "Anna",
                "scale_factor": 1,
                "type": "#4CAF50",
                "size": [
                  55,
                  55
                ],
                "position": [
                  0,
                  0
                ]
              },
              {
                "id": 34,
                "properties": {
                  "id": "Peter Iii",
                  "label": "__Entity__:Person"
                },
                "color": "#2196F3",
                "styles": {},
                "label": "Peter Iii",
                "scale_factor": 1,
                "type": "#2196F3",
                "size": [
                  55,
                  55
                ],
                "position": [
                  0,
                  0
                ]
              },
              {
                "id": 35,
                "properties": {
                  "id": "Mikhail Lomonosov",
                  "label": "__Entity__:Person"
                },
                "color": "#2196F3",
                "styles": {},
                "label": "Mikhail Lomonosov",
                "scale_factor": 1,
                "type": "#2196F3",
                "size": [
                  55,
                  55
                ],
                "position": [
                  0,
                  0
                ]
              },
              {
                "id": 36,
                "properties": {
                  "id": "Ivan Shuvalov",
                  "label": "__Entity__:Person"
                },
                "color": "#2196F3",
                "styles": {},
                "label": "Ivan Shuvalov",
                "scale_factor": 1,
                "type": "#2196F3",
                "size": [
                  55,
                  55
                ],
                "position": [
                  0,
                  0
                ]
              },
              {
                "id": 37,
                "properties": {
                  "id": "Bartolomeo Rastrelli",
                  "label": "__Entity__:Architect"
                },
                "color": "#F44336",
                "styles": {},
                "label": "Bartolomeo Rastrelli",
                "scale_factor": 1,
                "type": "#F44336",
                "size": [
                  55,
                  55
                ],
                "position": [
                  0,
                  0
                ]
              },
              {
                "id": 38,
                "properties": {
                  "id": "Aleksey Bestuzhev-Ryumin",
                  "label": "__Entity__:Diplomat"
                },
                "color": "#607D8B",
                "styles": {},
                "label": "Aleksey Bestuzhev-Ryumin",
                "scale_factor": 1,
                "type": "#607D8B",
                "size": [
                  55,
                  55
                ],
                "position": [
                  0,
                  0
                ]
              },
              {
                "id": 39,
                "properties": {
                  "id": "Frederick The Great",
                  "label": "__Entity__:Person"
                },
                "color": "#2196F3",
                "styles": {},
                "label": "Frederick The Great",
                "scale_factor": 1,
                "type": "#2196F3",
                "size": [
                  55,
                  55
                ],
                "position": [
                  0,
                  0
                ]
              },
              {
                "id": 41,
                "properties": {
                  "id": "Russian Troops",
                  "label": "__Entity__:Military"
                },
                "color": "#673AB7",
                "styles": {},
                "label": "Russian Troops",
                "scale_factor": 1,
                "type": "#673AB7",
                "size": [
                  55,
                  55
                ],
                "position": [
                  0,
                  0
                ]
              },
              {
                "id": 42,
                "properties": {
                  "id": "Prussia",
                  "label": "__Entity__:Country"
                },
                "color": "#4CAF50",
                "styles": {},
                "label": "Prussia",
                "scale_factor": 1,
                "type": "#4CAF50",
                "size": [
                  55,
                  55
                ],
                "position": [
                  0,
                  0
                ]
              },
              {
                "id": 43,
                "properties": {
                  "id": "Berlin",
                  "label": "__Entity__:City"
                },
                "color": "#CDDC39",
                "styles": {},
                "label": "Berlin",
                "scale_factor": 1,
                "type": "#CDDC39",
                "size": [
                  55,
                  55
                ],
                "position": [
                  0,
                  0
                ]
              },
              {
                "id": 44,
                "properties": {
                  "id": "Russian Empress",
                  "label": "__Entity__:Person"
                },
                "color": "#2196F3",
                "styles": {},
                "label": "Russian Empress",
                "scale_factor": 1,
                "type": "#2196F3",
                "size": [
                  55,
                  55
                ],
                "position": [
                  0,
                  0
                ]
              }
            ],
            "_overview": {
              "enabled": null,
              "overview_set": false
            },
            "_selected_graph": [
              [],
              []
            ],
            "_sidebar": {
              "enabled": false,
              "start_with": null
            },
            "_view_count": null,
            "_view_module": "yfiles-jupyter-graphs",
            "_view_module_version": "^1.8.1",
            "_view_name": "GraphView",
            "layout": "IPY_MODEL_e819b38f36084258bf63aabde6841a61",
            "tabbable": null,
            "tooltip": null
          }
        },
        "e819b38f36084258bf63aabde6841a61": {
          "model_module": "@jupyter-widgets/base",
          "model_name": "LayoutModel",
          "model_module_version": "2.0.0",
          "state": {
            "_model_module": "@jupyter-widgets/base",
            "_model_module_version": "2.0.0",
            "_model_name": "LayoutModel",
            "_view_count": null,
            "_view_module": "@jupyter-widgets/base",
            "_view_module_version": "2.0.0",
            "_view_name": "LayoutView",
            "align_content": null,
            "align_items": null,
            "align_self": null,
            "border_bottom": null,
            "border_left": null,
            "border_right": null,
            "border_top": null,
            "bottom": null,
            "display": null,
            "flex": null,
            "flex_flow": null,
            "grid_area": null,
            "grid_auto_columns": null,
            "grid_auto_flow": null,
            "grid_auto_rows": null,
            "grid_column": null,
            "grid_gap": null,
            "grid_row": null,
            "grid_template_areas": null,
            "grid_template_columns": null,
            "grid_template_rows": null,
            "height": "800px",
            "justify_content": null,
            "justify_items": null,
            "left": null,
            "margin": null,
            "max_height": null,
            "max_width": null,
            "min_height": null,
            "min_width": null,
            "object_fit": null,
            "object_position": null,
            "order": null,
            "overflow": null,
            "padding": null,
            "right": null,
            "top": null,
            "visibility": null,
            "width": "100%"
          }
        }
      }
    }
  },
  "cells": [
    {
      "cell_type": "code",
      "execution_count": 1,
      "metadata": {
        "colab": {
          "base_uri": "https://localhost:8080/"
        },
        "id": "h0tyXqOLJt0l",
        "outputId": "411c4931-3030-4132-a3db-eacc59c31f46"
      },
      "outputs": [
        {
          "output_type": "stream",
          "name": "stdout",
          "text": [
            "  Preparing metadata (setup.py) ... \u001b[?25l\u001b[?25hdone\n",
            "\u001b[2K     \u001b[90m━━━━━━━━━━━━━━━━━━━━━━━━━━━━━━━━━━━━━━━━\u001b[0m \u001b[32m50.6/50.6 kB\u001b[0m \u001b[31m1.3 MB/s\u001b[0m eta \u001b[36m0:00:00\u001b[0m\n",
            "\u001b[2K   \u001b[90m━━━━━━━━━━━━━━━━━━━━━━━━━━━━━━━━━━━━━━━━\u001b[0m \u001b[32m1.0/1.0 MB\u001b[0m \u001b[31m19.6 MB/s\u001b[0m eta \u001b[36m0:00:00\u001b[0m\n",
            "\u001b[2K   \u001b[90m━━━━━━━━━━━━━━━━━━━━━━━━━━━━━━━━━━━━━━━━\u001b[0m \u001b[32m2.4/2.4 MB\u001b[0m \u001b[31m39.6 MB/s\u001b[0m eta \u001b[36m0:00:00\u001b[0m\n",
            "\u001b[2K   \u001b[90m━━━━━━━━━━━━━━━━━━━━━━━━━━━━━━━━━━━━━━━━\u001b[0m \u001b[32m49.9/49.9 kB\u001b[0m \u001b[31m2.4 MB/s\u001b[0m eta \u001b[36m0:00:00\u001b[0m\n",
            "\u001b[2K   \u001b[90m━━━━━━━━━━━━━━━━━━━━━━━━━━━━━━━━━━━━━━━━\u001b[0m \u001b[32m208.1/208.1 kB\u001b[0m \u001b[31m11.5 MB/s\u001b[0m eta \u001b[36m0:00:00\u001b[0m\n",
            "\u001b[2K   \u001b[90m━━━━━━━━━━━━━━━━━━━━━━━━━━━━━━━━━━━━━━━━\u001b[0m \u001b[32m296.6/296.6 kB\u001b[0m \u001b[31m16.5 MB/s\u001b[0m eta \u001b[36m0:00:00\u001b[0m\n",
            "\u001b[2K   \u001b[90m━━━━━━━━━━━━━━━━━━━━━━━━━━━━━━━━━━━━━━━━\u001b[0m \u001b[32m1.2/1.2 MB\u001b[0m \u001b[31m26.9 MB/s\u001b[0m eta \u001b[36m0:00:00\u001b[0m\n",
            "\u001b[2K   \u001b[90m━━━━━━━━━━━━━━━━━━━━━━━━━━━━━━━━━━━━━━━━\u001b[0m \u001b[32m15.6/15.6 MB\u001b[0m \u001b[31m40.9 MB/s\u001b[0m eta \u001b[36m0:00:00\u001b[0m\n",
            "\u001b[2K   \u001b[90m━━━━━━━━━━━━━━━━━━━━━━━━━━━━━━━━━━━━━━━━\u001b[0m \u001b[32m139.8/139.8 kB\u001b[0m \u001b[31m7.7 MB/s\u001b[0m eta \u001b[36m0:00:00\u001b[0m\n",
            "\u001b[2K   \u001b[90m━━━━━━━━━━━━━━━━━━━━━━━━━━━━━━━━━━━━━━━━\u001b[0m \u001b[32m407.7/407.7 kB\u001b[0m \u001b[31m15.5 MB/s\u001b[0m eta \u001b[36m0:00:00\u001b[0m\n",
            "\u001b[2K   \u001b[90m━━━━━━━━━━━━━━━━━━━━━━━━━━━━━━━━━━━━━━━━\u001b[0m \u001b[32m296.7/296.7 kB\u001b[0m \u001b[31m15.1 MB/s\u001b[0m eta \u001b[36m0:00:00\u001b[0m\n",
            "\u001b[2K   \u001b[90m━━━━━━━━━━━━━━━━━━━━━━━━━━━━━━━━━━━━━━━━\u001b[0m \u001b[32m386.9/386.9 kB\u001b[0m \u001b[31m20.8 MB/s\u001b[0m eta \u001b[36m0:00:00\u001b[0m\n",
            "\u001b[2K   \u001b[90m━━━━━━━━━━━━━━━━━━━━━━━━━━━━━━━━━━━━━━━━\u001b[0m \u001b[32m76.4/76.4 kB\u001b[0m \u001b[31m4.6 MB/s\u001b[0m eta \u001b[36m0:00:00\u001b[0m\n",
            "\u001b[2K   \u001b[90m━━━━━━━━━━━━━━━━━━━━━━━━━━━━━━━━━━━━━━━━\u001b[0m \u001b[32m78.0/78.0 kB\u001b[0m \u001b[31m4.2 MB/s\u001b[0m eta \u001b[36m0:00:00\u001b[0m\n",
            "\u001b[2K   \u001b[90m━━━━━━━━━━━━━━━━━━━━━━━━━━━━━━━━━━━━━━━━\u001b[0m \u001b[32m325.2/325.2 kB\u001b[0m \u001b[31m12.8 MB/s\u001b[0m eta \u001b[36m0:00:00\u001b[0m\n",
            "\u001b[2K   \u001b[90m━━━━━━━━━━━━━━━━━━━━━━━━━━━━━━━━━━━━━━━━\u001b[0m \u001b[32m49.5/49.5 kB\u001b[0m \u001b[31m2.4 MB/s\u001b[0m eta \u001b[36m0:00:00\u001b[0m\n",
            "\u001b[2K   \u001b[90m━━━━━━━━━━━━━━━━━━━━━━━━━━━━━━━━━━━━━━━━\u001b[0m \u001b[32m144.5/144.5 kB\u001b[0m \u001b[31m8.7 MB/s\u001b[0m eta \u001b[36m0:00:00\u001b[0m\n",
            "\u001b[2K   \u001b[90m━━━━━━━━━━━━━━━━━━━━━━━━━━━━━━━━━━━━━━━━\u001b[0m \u001b[32m54.5/54.5 kB\u001b[0m \u001b[31m2.5 MB/s\u001b[0m eta \u001b[36m0:00:00\u001b[0m\n",
            "\u001b[2K   \u001b[90m━━━━━━━━━━━━━━━━━━━━━━━━━━━━━━━━━━━━━━━━\u001b[0m \u001b[32m2.3/2.3 MB\u001b[0m \u001b[31m30.4 MB/s\u001b[0m eta \u001b[36m0:00:00\u001b[0m\n",
            "\u001b[2K   \u001b[90m━━━━━━━━━━━━━━━━━━━━━━━━━━━━━━━━━━━━━━━━\u001b[0m \u001b[32m1.6/1.6 MB\u001b[0m \u001b[31m29.6 MB/s\u001b[0m eta \u001b[36m0:00:00\u001b[0m\n",
            "\u001b[2K   \u001b[90m━━━━━━━━━━━━━━━━━━━━━━━━━━━━━━━━━━━━━━━━\u001b[0m \u001b[32m58.3/58.3 kB\u001b[0m \u001b[31m3.1 MB/s\u001b[0m eta \u001b[36m0:00:00\u001b[0m\n",
            "\u001b[?25h  Building wheel for wikipedia (setup.py) ... \u001b[?25l\u001b[?25hdone\n"
          ]
        }
      ],
      "source": [
        "%pip install --upgrade --quiet  langchain langchain-community langchain-openai langchain-experimental neo4j wikipedia tiktoken yfiles_jupyter_graphs\n"
      ]
    },
    {
      "cell_type": "code",
      "source": [
        "\n",
        "from langchain_core.runnables import (\n",
        "    RunnableBranch,\n",
        "    RunnableLambda,\n",
        "    RunnableParallel,\n",
        "    RunnablePassthrough,\n",
        ")\n"
      ],
      "metadata": {
        "id": "X7oIE7x_KDNh"
      },
      "execution_count": 2,
      "outputs": []
    },
    {
      "cell_type": "code",
      "source": [
        "from langchain_core.prompts import ChatPromptTemplate\n",
        "from langchain_core.prompts.prompt import PromptTemplate"
      ],
      "metadata": {
        "id": "8T7G61n2KDRj"
      },
      "execution_count": 3,
      "outputs": []
    },
    {
      "cell_type": "code",
      "source": [
        "from google.colab import userdata\n",
        "OPENAI_API_KEY=userdata.get('OPENAI_API_KEY')"
      ],
      "metadata": {
        "id": "pS9szz0GKDVN"
      },
      "execution_count": 4,
      "outputs": []
    },
    {
      "cell_type": "code",
      "source": [
        "from typing import Tuple, List, Optional"
      ],
      "metadata": {
        "id": "NtePIKxHK_-J"
      },
      "execution_count": 7,
      "outputs": []
    },
    {
      "cell_type": "code",
      "source": [
        "from langchain_core.messages import AIMessage, HumanMessage\n",
        "from langchain_core.output_parsers import StrOutputParser"
      ],
      "metadata": {
        "id": "7_Gs7hnwLAB5"
      },
      "execution_count": 8,
      "outputs": []
    },
    {
      "cell_type": "code",
      "source": [
        "from langchain_core.runnables import ConfigurableField"
      ],
      "metadata": {
        "id": "LfIOUKgKLAFb"
      },
      "execution_count": 9,
      "outputs": []
    },
    {
      "cell_type": "code",
      "source": [
        "from yfiles_jupyter_graphs import GraphWidget\n",
        "from neo4j import GraphDatabase"
      ],
      "metadata": {
        "id": "_Tjmgd1ALAIV"
      },
      "execution_count": 10,
      "outputs": []
    },
    {
      "cell_type": "code",
      "source": [
        "import os"
      ],
      "metadata": {
        "id": "a4Nxwa2CLALc"
      },
      "execution_count": 11,
      "outputs": []
    },
    {
      "cell_type": "code",
      "source": [
        "try:\n",
        "  import google.colab\n",
        "  from google.colab import output\n",
        "  output.enable_custom_widget_manager()\n",
        "except:\n",
        "  pass"
      ],
      "metadata": {
        "id": "TU7CWmPQLPuE"
      },
      "execution_count": 12,
      "outputs": []
    },
    {
      "cell_type": "code",
      "source": [
        "from langchain_community.vectorstores import Neo4jVector"
      ],
      "metadata": {
        "id": "-6fl726CLPw_"
      },
      "execution_count": 13,
      "outputs": []
    },
    {
      "cell_type": "code",
      "source": [
        "from google.colab import userdata\n",
        "OPENAI_API_KEY=userdata.get('OPENAI_API_KEY')"
      ],
      "metadata": {
        "id": "Nb0SkuSYLP0S"
      },
      "execution_count": 14,
      "outputs": []
    },
    {
      "cell_type": "code",
      "source": [
        "NEO4J_URI=\"neo4j+s://400cb558.databases.neo4j.io\"\n",
        "NEO4J_USERNAME=\"neo4j\"\n",
        "NEO4J_PASSWORD=\"mtZdYy40OrsOwu8ZpPG-Eq22KXe6REZEp5OGYEJV7mM\""
      ],
      "metadata": {
        "id": "EIysYBCILP2_"
      },
      "execution_count": 15,
      "outputs": []
    },
    {
      "cell_type": "code",
      "source": [
        "os.environ[\"OPENAI_API_KEY\"] = OPENAI_API_KEY\n",
        "os.environ[\"NEO4J_URI\"] = NEO4J_URI\n",
        "os.environ[\"NEO4J_USERNAME\"] = NEO4J_USERNAME\n",
        "os.environ[\"NEO4J_PASSWORD\"] = NEO4J_PASSWORD"
      ],
      "metadata": {
        "id": "MZItCMeQLP6E"
      },
      "execution_count": 17,
      "outputs": []
    },
    {
      "cell_type": "code",
      "source": [
        "from langchain_community.graphs import Neo4jGraph"
      ],
      "metadata": {
        "id": "XjVypICKMpD5"
      },
      "execution_count": 18,
      "outputs": []
    },
    {
      "cell_type": "code",
      "source": [
        "graph = Neo4jGraph()"
      ],
      "metadata": {
        "id": "q8fkaEp0MpGw"
      },
      "execution_count": 19,
      "outputs": []
    },
    {
      "cell_type": "code",
      "source": [
        "\n",
        "from langchain.document_loaders import WikipediaLoader\n",
        "raw_documents = WikipediaLoader(query=\"Mahatma Gandhi\").load()"
      ],
      "metadata": {
        "id": "myJNrjxCMpJp"
      },
      "execution_count": 26,
      "outputs": []
    },
    {
      "cell_type": "code",
      "source": [
        "len(raw_documents)"
      ],
      "metadata": {
        "colab": {
          "base_uri": "https://localhost:8080/"
        },
        "id": "pjq_FSKoMpMc",
        "outputId": "fbcd0912-3360-4d30-ca89-b9b8e61dc0cf"
      },
      "execution_count": 27,
      "outputs": [
        {
          "output_type": "execute_result",
          "data": {
            "text/plain": [
              "24"
            ]
          },
          "metadata": {},
          "execution_count": 27
        }
      ]
    },
    {
      "cell_type": "code",
      "source": [
        "raw_documents[:3]"
      ],
      "metadata": {
        "colab": {
          "base_uri": "https://localhost:8080/"
        },
        "id": "Kg4pcoMIMpPj",
        "outputId": "9e6dd432-4a84-4a54-f39e-7f5dc91a358c"
      },
      "execution_count": 28,
      "outputs": [
        {
          "output_type": "execute_result",
          "data": {
            "text/plain": [
              "[Document(metadata={'title': 'Mahatma Gandhi', 'summary': 'Mohandas Karamchand Gandhi (ISO: Mōhanadāsa Karamacaṁda Gāṁdhī; 2 October 1869 – 30 January 1948) was an Indian lawyer, anti-colonial nationalist, and political ethicist who employed nonviolent resistance to lead the successful campaign for India\\'s independence from British rule. He inspired movements for civil rights and freedom across the world. The honorific Mahātmā (from Sanskrit \\'great-souled, venerable\\'), first applied to him in South Africa in 1914, is now used throughout the world.\\nBorn and raised in a Hindu family in coastal Gujarat, Gandhi trained in the law at the Inner Temple in London and was called to the bar in June 1891, at the age of 22. After two uncertain years in India, where he was unable to start a successful law practice, Gandhi moved to South Africa in 1893 to represent an Indian merchant in a lawsuit. He went on to live in South Africa for 21 years. There, Gandhi raised a family and first employed nonviolent resistance in a campaign for civil rights. In 1915, aged 45, he returned to India and soon set about organising peasants, farmers, and urban labourers to protest against discrimination and excessive land-tax.\\nAssuming leadership of the Indian National Congress in 1921, Gandhi led nationwide campaigns for easing poverty, expanding women\\'s rights, building religious and ethnic amity, ending untouchability, and, above all, achieving swaraj or self-rule. Gandhi adopted the short dhoti woven with hand-spun yarn as a mark of identification with India\\'s rural poor. He began to live in a self-sufficient residential community, to eat simple food, and undertake long fasts as a means of both introspection and political protest. Bringing anti-colonial nationalism to the common Indians, Gandhi led them in challenging the British-imposed salt tax with the 400 km (250 mi) Dandi Salt March in 1930 and in calling for the British to quit India in 1942. He was imprisoned many times and for many years in both South Africa and India.\\nGandhi\\'s vision of an independent India based on religious pluralism was challenged in the early 1940s by a Muslim nationalism which demanded a separate homeland for Muslims within British India. In August 1947, Britain granted independence, but the British Indian Empire was partitioned into two dominions, a Hindu-majority India and a Muslim-majority Pakistan. As many displaced Hindus, Muslims, and Sikhs made their way to their new lands, religious violence broke out, especially in the Punjab and Bengal. Abstaining from the official celebration of independence, Gandhi visited the affected areas, attempting to alleviate distress. In the months following, he undertook several hunger strikes to stop the religious violence. The last of these was begun in Delhi on 12 January 1948, when Gandhi was 78. The belief that Gandhi had been too resolute in his defence of both Pakistan and Indian Muslims spread among some Hindus in India. Among these was Nathuram Godse, a militant Hindu nationalist from Pune, western India, who assassinated Gandhi by firing three bullets into his chest at an interfaith prayer meeting in Delhi on 30 January 1948. \\nGandhi\\'s birthday, 2 October, is commemorated in India as Gandhi Jayanti, a national holiday, and worldwide as the International Day of Nonviolence. Gandhi is considered to be the Father of the Nation in post-colonial India. During India\\'s nationalist movement and in several decades immediately after, he was also commonly called Bapu (Gujarati endearment for \"father\", roughly \"papa\", \"daddy\").\\n\\n', 'source': 'https://en.wikipedia.org/wiki/Mahatma_Gandhi'}, page_content='Mohandas Karamchand Gandhi (ISO: Mōhanadāsa Karamacaṁda Gāṁdhī; 2 October 1869 – 30 January 1948) was an Indian lawyer, anti-colonial nationalist, and political ethicist who employed nonviolent resistance to lead the successful campaign for India\\'s independence from British rule. He inspired movements for civil rights and freedom across the world. The honorific Mahātmā (from Sanskrit \\'great-souled, venerable\\'), first applied to him in South Africa in 1914, is now used throughout the world.\\nBorn and raised in a Hindu family in coastal Gujarat, Gandhi trained in the law at the Inner Temple in London and was called to the bar in June 1891, at the age of 22. After two uncertain years in India, where he was unable to start a successful law practice, Gandhi moved to South Africa in 1893 to represent an Indian merchant in a lawsuit. He went on to live in South Africa for 21 years. There, Gandhi raised a family and first employed nonviolent resistance in a campaign for civil rights. In 1915, aged 45, he returned to India and soon set about organising peasants, farmers, and urban labourers to protest against discrimination and excessive land-tax.\\nAssuming leadership of the Indian National Congress in 1921, Gandhi led nationwide campaigns for easing poverty, expanding women\\'s rights, building religious and ethnic amity, ending untouchability, and, above all, achieving swaraj or self-rule. Gandhi adopted the short dhoti woven with hand-spun yarn as a mark of identification with India\\'s rural poor. He began to live in a self-sufficient residential community, to eat simple food, and undertake long fasts as a means of both introspection and political protest. Bringing anti-colonial nationalism to the common Indians, Gandhi led them in challenging the British-imposed salt tax with the 400 km (250 mi) Dandi Salt March in 1930 and in calling for the British to quit India in 1942. He was imprisoned many times and for many years in both South Africa and India.\\nGandhi\\'s vision of an independent India based on religious pluralism was challenged in the early 1940s by a Muslim nationalism which demanded a separate homeland for Muslims within British India. In August 1947, Britain granted independence, but the British Indian Empire was partitioned into two dominions, a Hindu-majority India and a Muslim-majority Pakistan. As many displaced Hindus, Muslims, and Sikhs made their way to their new lands, religious violence broke out, especially in the Punjab and Bengal. Abstaining from the official celebration of independence, Gandhi visited the affected areas, attempting to alleviate distress. In the months following, he undertook several hunger strikes to stop the religious violence. The last of these was begun in Delhi on 12 January 1948, when Gandhi was 78. The belief that Gandhi had been too resolute in his defence of both Pakistan and Indian Muslims spread among some Hindus in India. Among these was Nathuram Godse, a militant Hindu nationalist from Pune, western India, who assassinated Gandhi by firing three bullets into his chest at an interfaith prayer meeting in Delhi on 30 January 1948. \\nGandhi\\'s birthday, 2 October, is commemorated in India as Gandhi Jayanti, a national holiday, and worldwide as the International Day of Nonviolence. Gandhi is considered to be the Father of the Nation in post-colonial India. During India\\'s nationalist movement and in several decades immediately after, he was also commonly called Bapu (Gujarati endearment for \"father\", roughly \"papa\", \"daddy\").\\n\\n\\n== Early life and background ==\\n\\n\\n=== Parents ===\\nGandhi\\'s father, Karamchand Uttamchand Gandhi (1822–1885), served as the dewan (chief minister) of Porbandar state. His family originated from the then village of Kutiana in what was then Junagadh State. Although Karamchand only had been a clerk in the state administration and had an elementary education, he proved a capable chief minister.\\nDuring his tenure, Karamchand married four times. His first two wives died young, '),\n",
              " Document(metadata={'title': 'Assassination of Mahatma Gandhi', 'summary': 'Mohandas Karamchand Gandhi was assassinated on 30 January 1948 at age 78 in the compound of The Birla House (now Gandhi Smriti), a large mansion in central New Delhi. His assassin was Nathuram Godse, from Pune, Maharashtra, a Hindutva activist, a member of the Rashtriya Swayamsevak Sangh (RSS), a right-wing Hindu paramilitary organization as well as a member of the Hindu Mahasabha.\\nSometime after 5 PM, according to witnesses, Gandhi had reached the top of the steps leading to the raised lawn behind Birla House where he had been conducting multi-faith prayer meetings every evening. As Gandhi began to walk toward the dais, Godse stepped out from the crowd flanking Gandhi\\'s path, and fired three bullets into Gandhi\\'s chest and stomach at point-blank range. Gandhi fell to the ground. He was carried back to his room in Birla House from which a representative emerged sometime later to announce his death.\\nGodse was captured by members of the crowd—the most widely reported of whom was Herbert Reiner Jr, a vice-consul at the American embassy in Delhi—and handed over to the police. The Gandhi murder trial opened in May 1948 in Delhi\\'s historic Red Fort, with Godse the main defendant, and his collaborator Narayan Apte, and six more, deemed co-defendants. The trial was rushed through, the haste sometimes attributed to the home minister Vallabhbhai Patel\\'s desire \"to avoid scrutiny for the failure to prevent the assassination.\" Godse and Apte were sentenced to death on 8 November 1949. Although pleas for commutation were made by Gandhi\\'s two sons, Manilal Gandhi and Ramdas Gandhi, they were turned down by India\\'s prime minister Jawaharlal Nehru, deputy prime minister Vallabhbhai Patel and the Governor-General Chakravarti Rajagopalachari. Godse and Apte were hanged in the Ambala jail on 15 November 1949.\\n\\n', 'source': 'https://en.wikipedia.org/wiki/Assassination_of_Mahatma_Gandhi'}, page_content='Mohandas Karamchand Gandhi was assassinated on 30 January 1948 at age 78 in the compound of The Birla House (now Gandhi Smriti), a large mansion in central New Delhi. His assassin was Nathuram Godse, from Pune, Maharashtra, a Hindutva activist, a member of the Rashtriya Swayamsevak Sangh (RSS), a right-wing Hindu paramilitary organization as well as a member of the Hindu Mahasabha.\\nSometime after 5 PM, according to witnesses, Gandhi had reached the top of the steps leading to the raised lawn behind Birla House where he had been conducting multi-faith prayer meetings every evening. As Gandhi began to walk toward the dais, Godse stepped out from the crowd flanking Gandhi\\'s path, and fired three bullets into Gandhi\\'s chest and stomach at point-blank range. Gandhi fell to the ground. He was carried back to his room in Birla House from which a representative emerged sometime later to announce his death.\\nGodse was captured by members of the crowd—the most widely reported of whom was Herbert Reiner Jr, a vice-consul at the American embassy in Delhi—and handed over to the police. The Gandhi murder trial opened in May 1948 in Delhi\\'s historic Red Fort, with Godse the main defendant, and his collaborator Narayan Apte, and six more, deemed co-defendants. The trial was rushed through, the haste sometimes attributed to the home minister Vallabhbhai Patel\\'s desire \"to avoid scrutiny for the failure to prevent the assassination.\" Godse and Apte were sentenced to death on 8 November 1949. Although pleas for commutation were made by Gandhi\\'s two sons, Manilal Gandhi and Ramdas Gandhi, they were turned down by India\\'s prime minister Jawaharlal Nehru, deputy prime minister Vallabhbhai Patel and the Governor-General Chakravarti Rajagopalachari. Godse and Apte were hanged in the Ambala jail on 15 November 1949.\\n\\n\\n== Preparations ==\\nIn May 1944, Nathuram Vinayak Godse attempted to assassinate Gandhi with a knife. He led a group of 15 to 20 young men who rushed at Gandhi during a prayer meeting at Panchgani. Godse and his group were prevented by the crowds from reaching Gandhi. He was released due to Gandhi\\'s own policy of declining to press criminal charges.\\nIn September 1944, Godse again led another group to block Gandhi\\'s passage from Sevagram to Mumbai. This time Godse was arrested with a dagger and he uttered threats to kill Gandhi. He was released again owing to Gandhi\\'s policy of not pressing criminal charges.\\nIn early September 1947, Gandhi moved to Delhi to help stem the violent rioting there and in the neighboring province of East Punjab. The rioting had come in the wake of the partition of the British Indian empire, which had accompanied the creation of the new independent dominions of India and Pakistan, and involved large, chaotic transfers of population between them.\\nGodse and his assassination accomplices were residents of the Deccan region. Godse had previously led a civil disobedience movement against Osman Ali Khan, the Muslim ruler of the princely Deccan region dominion of Hyderabad State in British India. Godse joined a protest march in 1938 in Hyderabad,   He was arrested for political crimes and served a prison sentence. Once he was out of prison, Godse continued his civil disobedience and worked as a journalist reporting the sufferings of Hindu refugees escaping from Pakistan, and during the various religious riots that erupted in the 1940s.\\nPlans to assassinate Gandhi were initiated by Godse and his accomplices in January 1948, after India and Pakistan had already started a war over Kashmir, due to Godse\\'s disagreement with Gandhi\\'s philosophy of non-violence towards Muslims. But Gandhi opposed the decision and went on a fast-unto-death on 13 January 1948 to pressure the Indian government to release the payment to Pakistan. The Indian government, yielding to Gandhi, reversed its decision. Godse and his colleagues interpreted this sequence of events to be a case of Mahatma Gandhi controlling power and hurting India.\\nOn the day'),\n",
              " Document(metadata={'title': 'Family of Mahatma Gandhi', 'summary': 'The Gandhi family is the family of Mohandas Karamchand Gandhi (2 October 1869 – 30 January 1948), commonly known as Mahatma Gandhi; Mahatma meaning \"high souled\" or \"venerable\" in Sanskrit;  the particular term \\'Mahatma\\' was accorded Mohandas Gandhi for the first time while he was still in South Africa, and not commonly heard as titular for any other civil figure even of similarly rarefied stature or living or posthumous presence.\\nMohandas Gandhi was the leader of the Indian independence movement in British-ruled India. Mohandas Gandhi has been called contemporary, post-colonial sovereign India\\'s Father of the Nation, a title first given to him by Subhas Chandra Bose on 6 July 1944 during Bose\\'s address on the Singapore Radio. On 28 April 1947, Sarojini Naidu too referred to Gandhi with the title Father of the Nation. Mohandas Gandhi is also referred to as Bapu (Gujarati: endearment for \"father\") in India, as prime minister Nehru called him at his funeral. In common parlance in India he is often called Gandhiji; \\'ji\\' being a honorific suffix. Gandhi has also been referred to (mostly by British officials) as Gae-ndy or Ga-ndhi as in Hindi the a makes an \"ah\" sound.\\nIn 1883, Mahatma Gandhi married Kasturba (née Kasturbai Makhanji Kapadia). They had their first baby in 1885, who survived only a few days. The Gandhi couple had four more children, all sons: Harilal, born in 1888; Manilal, born in 1892; Ramdas, born in 1897; and Devdas, born in 1900. Mohandas and Kasturba being third generation members of the cogent strata of this clan in a modern continuous descent, following upon a notable first generation progenitor who was first in the family to hold the office of full Diwan, Prime Minister as the Mahatma translates it, in a princely state, their issue now has notable and active members in their family\\'s seventh generation and continue to be steadily prolific. The Mahatma writes that \"The Gandhis belong to the Bania caste and seem to have been originally grocers.\" \\nPrior to the Mahatma\\'s grandfather being a Prime Minister in two different monarchial states, after a principled falling out with a royal faction in his first state, several generations of the Gandhi men had been Deputy Prime Ministers, if their career status is considered sufficiently notable in this family of political officials, then numeration of their generations as a \\'dynasty\\' of ministers would be several numbers higher. Five generations before the Mahatma\\'s grandfather, Lalji Gandhi (born circa 1674) was the first of 5 successful generations of Naib Diwans of the Princely state of Porbander.\\n\\nThe Nehru-Gandhi family, India\\'s other significant family with surname Gandhi, is unrelated by biology and marriage to the family of Mahatma Gandhi, however the same spelling of \\'Gandhi\\' came into the Nehru-Gandhi family when Jawaharlal Nehru\\'s daughter Indira married politician Feroze Gandhi who had changed the spelling of his surname Ghandy to Gandhi precisely to match that of Mahatma Mohandas Karamchand Gandhi, revered as the \\'father of the Indian nation\\'.\\n\\n', 'source': 'https://en.wikipedia.org/wiki/Family_of_Mahatma_Gandhi'}, page_content='The Gandhi family is the family of Mohandas Karamchand Gandhi (2 October 1869 – 30 January 1948), commonly known as Mahatma Gandhi; Mahatma meaning \"high souled\" or \"venerable\" in Sanskrit;  the particular term \\'Mahatma\\' was accorded Mohandas Gandhi for the first time while he was still in South Africa, and not commonly heard as titular for any other civil figure even of similarly rarefied stature or living or posthumous presence.\\nMohandas Gandhi was the leader of the Indian independence movement in British-ruled India. Mohandas Gandhi has been called contemporary, post-colonial sovereign India\\'s Father of the Nation, a title first given to him by Subhas Chandra Bose on 6 July 1944 during Bose\\'s address on the Singapore Radio. On 28 April 1947, Sarojini Naidu too referred to Gandhi with the title Father of the Nation. Mohandas Gandhi is also referred to as Bapu (Gujarati: endearment for \"father\") in India, as prime minister Nehru called him at his funeral. In common parlance in India he is often called Gandhiji; \\'ji\\' being a honorific suffix. Gandhi has also been referred to (mostly by British officials) as Gae-ndy or Ga-ndhi as in Hindi the a makes an \"ah\" sound.\\nIn 1883, Mahatma Gandhi married Kasturba (née Kasturbai Makhanji Kapadia). They had their first baby in 1885, who survived only a few days. The Gandhi couple had four more children, all sons: Harilal, born in 1888; Manilal, born in 1892; Ramdas, born in 1897; and Devdas, born in 1900. Mohandas and Kasturba being third generation members of the cogent strata of this clan in a modern continuous descent, following upon a notable first generation progenitor who was first in the family to hold the office of full Diwan, Prime Minister as the Mahatma translates it, in a princely state, their issue now has notable and active members in their family\\'s seventh generation and continue to be steadily prolific. The Mahatma writes that \"The Gandhis belong to the Bania caste and seem to have been originally grocers.\" \\nPrior to the Mahatma\\'s grandfather being a Prime Minister in two different monarchial states, after a principled falling out with a royal faction in his first state, several generations of the Gandhi men had been Deputy Prime Ministers, if their career status is considered sufficiently notable in this family of political officials, then numeration of their generations as a \\'dynasty\\' of ministers would be several numbers higher. Five generations before the Mahatma\\'s grandfather, Lalji Gandhi (born circa 1674) was the first of 5 successful generations of Naib Diwans of the Princely state of Porbander.\\n\\nThe Nehru-Gandhi family, India\\'s other significant family with surname Gandhi, is unrelated by biology and marriage to the family of Mahatma Gandhi, however the same spelling of \\'Gandhi\\' came into the Nehru-Gandhi family when Jawaharlal Nehru\\'s daughter Indira married politician Feroze Gandhi who had changed the spelling of his surname Ghandy to Gandhi precisely to match that of Mahatma Mohandas Karamchand Gandhi, revered as the \\'father of the Indian nation\\'.\\n\\n\\n== Etymology ==\\nGandhi: \"perfume seller,\" from Hindi gandh, \"sandalwood\"\\nThe Gandhi surname came into the separate Nehru-Gandhi family from Feroze Gandhi, a politician of Gujarati Parsi ancestry, who, after joining the independence movement, changed the spelling of his surname from Ghandy to Gandhi, to match that of the family of Mahatma Gandhi despite not being related biologically nor by marriage nor formal adoption. \\nIn the case of the Mahatma Gandhi, Mohandas Karamchand Gandhi: Mahatma, Sanskrit, \"high souled\" or \"venerable\" is the particular term accorded Mohandas Gandhi for the first time while he was still in South Africa, and not commonly heard as titular for any other civil figure even of similarly rarefied stature or living or posthumous presence. Mohandas Gandhi is also referred to as Bapu (Gujarati: endearment for \"father\") in India, as prime minister Nehru called him at his funeral. In common parlance ')]"
            ]
          },
          "metadata": {},
          "execution_count": 28
        }
      ]
    },
    {
      "cell_type": "code",
      "source": [
        "from langchain.text_splitter import TokenTextSplitter\n",
        "text_splitter = TokenTextSplitter(chunk_size=512, chunk_overlap=24)\n",
        "documents = text_splitter.split_documents(raw_documents[:3])\n"
      ],
      "metadata": {
        "id": "cclNKdwoM9Qj"
      },
      "execution_count": 29,
      "outputs": []
    },
    {
      "cell_type": "code",
      "source": [
        "from langchain_openai import ChatOpenAI\n",
        "llm=ChatOpenAI(temperature=0, model_name=\"gpt-3.5-turbo-0125\")"
      ],
      "metadata": {
        "id": "u-P-Lsn9M9Tz"
      },
      "execution_count": 30,
      "outputs": []
    },
    {
      "cell_type": "code",
      "source": [
        "from langchain_experimental.graph_transformers import LLMGraphTransformer\n",
        "llm_transformer = LLMGraphTransformer(llm=llm)"
      ],
      "metadata": {
        "id": "6P0LkiLGM9XN"
      },
      "execution_count": 31,
      "outputs": []
    },
    {
      "cell_type": "code",
      "source": [
        "graph_documents = llm_transformer.convert_to_graph_documents(documents)"
      ],
      "metadata": {
        "id": "JGOGtTHsM9aO"
      },
      "execution_count": 32,
      "outputs": []
    },
    {
      "cell_type": "code",
      "source": [
        "graph_documents"
      ],
      "metadata": {
        "colab": {
          "base_uri": "https://localhost:8080/"
        },
        "id": "Y3-25rNbM9dW",
        "outputId": "08eb7715-9241-42a8-c856-17c17ca9949c"
      },
      "execution_count": 33,
      "outputs": [
        {
          "output_type": "execute_result",
          "data": {
            "text/plain": [
              "[GraphDocument(nodes=[Node(id='Mohandas Karamchand Gandhi', type='Person', properties={}), Node(id='Indian Lawyer', type='Person', properties={}), Node(id='Anti-Colonial Nationalist', type='Person', properties={}), Node(id='Political Ethicist', type='Person', properties={}), Node(id='Mahātmā', type='Person', properties={}), Node(id='Hindu', type='Person', properties={}), Node(id='Lawyer', type='Person', properties={}), Node(id='Inner Temple', type='Person', properties={}), Node(id='London', type='Location', properties={}), Node(id='South Africa', type='Location', properties={}), Node(id='India', type='Location', properties={}), Node(id='Indian National Congress', type='Organization', properties={}), Node(id='Peasants', type='Person', properties={}), Node(id='Farmers', type='Person', properties={}), Node(id='Urban Labourers', type='Person', properties={}), Node(id='Indian Merchant', type='Person', properties={}), Node(id='Indian National Congress', type='Organization', properties={}), Node(id='Religious Pluralism', type='Concept', properties={}), Node(id='Muslim Nationalism', type='Concept', properties={}), Node(id='British India', type='Location', properties={}), Node(id='Pakistan', type='Location', properties={}), Node(id='Sikhs', type='Person', properties={})], relationships=[Relationship(source=Node(id='Mohandas Karamchand Gandhi', type='Person', properties={}), target=Node(id='Indian Lawyer', type='Person', properties={}), type='PROFESSION', properties={}), Relationship(source=Node(id='Mohandas Karamchand Gandhi', type='Person', properties={}), target=Node(id='Anti-Colonial Nationalist', type='Person', properties={}), type='INVOLVED_IN', properties={}), Relationship(source=Node(id='Mohandas Karamchand Gandhi', type='Person', properties={}), target=Node(id='Political Ethicist', type='Person', properties={}), type='INVOLVED_IN', properties={}), Relationship(source=Node(id='Mohandas Karamchand Gandhi', type='Person', properties={}), target=Node(id='Mahātmā', type='Person', properties={}), type='INVOLVED_IN', properties={}), Relationship(source=Node(id='Mohandas Karamchand Gandhi', type='Person', properties={}), target=Node(id='Hindu', type='Person', properties={}), type='BELIEF', properties={}), Relationship(source=Node(id='Mohandas Karamchand Gandhi', type='Person', properties={}), target=Node(id='Lawyer', type='Person', properties={}), type='EDUCATION', properties={}), Relationship(source=Node(id='Mohandas Karamchand Gandhi', type='Person', properties={}), target=Node(id='Inner Temple', type='Person', properties={}), type='EDUCATION', properties={}), Relationship(source=Node(id='Mohandas Karamchand Gandhi', type='Person', properties={}), target=Node(id='London', type='Location', properties={}), type='LIVED_IN', properties={}), Relationship(source=Node(id='Mohandas Karamchand Gandhi', type='Person', properties={}), target=Node(id='South Africa', type='Location', properties={}), type='LIVED_IN', properties={}), Relationship(source=Node(id='Mohandas Karamchand Gandhi', type='Person', properties={}), target=Node(id='India', type='Location', properties={}), type='LIVED_IN', properties={}), Relationship(source=Node(id='Mohandas Karamchand Gandhi', type='Person', properties={}), target=Node(id='Indian National Congress', type='Organization', properties={}), type='INVOLVED_IN', properties={}), Relationship(source=Node(id='Mohandas Karamchand Gandhi', type='Person', properties={}), target=Node(id='Peasants', type='Person', properties={}), type='ORGANIZED', properties={}), Relationship(source=Node(id='Mohandas Karamchand Gandhi', type='Person', properties={}), target=Node(id='Farmers', type='Person', properties={}), type='ORGANIZED', properties={}), Relationship(source=Node(id='Mohandas Karamchand Gandhi', type='Person', properties={}), target=Node(id='Urban Labourers', type='Person', properties={}), type='ORGANIZED', properties={}), Relationship(source=Node(id='Mohandas Karamchand Gandhi', type='Person', properties={}), target=Node(id='Indian Merchant', type='Person', properties={}), type='REPRESENTED', properties={}), Relationship(source=Node(id='Mohandas Karamchand Gandhi', type='Person', properties={}), target=Node(id='Indian National Congress', type='Organization', properties={}), type='LEADERSHIP', properties={}), Relationship(source=Node(id='Mohandas Karamchand Gandhi', type='Person', properties={}), target=Node(id='Religious Pluralism', type='Concept', properties={}), type='ADVOCATED_FOR', properties={}), Relationship(source=Node(id='Mohandas Karamchand Gandhi', type='Person', properties={}), target=Node(id='Muslim Nationalism', type='Concept', properties={}), type='CHALLENGED_BY', properties={}), Relationship(source=Node(id='Mohandas Karamchand Gandhi', type='Person', properties={}), target=Node(id='British India', type='Location', properties={}), type='INVOLVED_IN', properties={}), Relationship(source=Node(id='Mohandas Karamchand Gandhi', type='Person', properties={}), target=Node(id='Pakistan', type='Location', properties={}), type='INVOLVED_IN', properties={}), Relationship(source=Node(id='Mohandas Karamchand Gandhi', type='Person', properties={}), target=Node(id='Sikhs', type='Person', properties={}), type='DISPLACED', properties={})], source=Document(metadata={'title': 'Mahatma Gandhi', 'summary': 'Mohandas Karamchand Gandhi (ISO: Mōhanadāsa Karamacaṁda Gāṁdhī; 2 October 1869 – 30 January 1948) was an Indian lawyer, anti-colonial nationalist, and political ethicist who employed nonviolent resistance to lead the successful campaign for India\\'s independence from British rule. He inspired movements for civil rights and freedom across the world. The honorific Mahātmā (from Sanskrit \\'great-souled, venerable\\'), first applied to him in South Africa in 1914, is now used throughout the world.\\nBorn and raised in a Hindu family in coastal Gujarat, Gandhi trained in the law at the Inner Temple in London and was called to the bar in June 1891, at the age of 22. After two uncertain years in India, where he was unable to start a successful law practice, Gandhi moved to South Africa in 1893 to represent an Indian merchant in a lawsuit. He went on to live in South Africa for 21 years. There, Gandhi raised a family and first employed nonviolent resistance in a campaign for civil rights. In 1915, aged 45, he returned to India and soon set about organising peasants, farmers, and urban labourers to protest against discrimination and excessive land-tax.\\nAssuming leadership of the Indian National Congress in 1921, Gandhi led nationwide campaigns for easing poverty, expanding women\\'s rights, building religious and ethnic amity, ending untouchability, and, above all, achieving swaraj or self-rule. Gandhi adopted the short dhoti woven with hand-spun yarn as a mark of identification with India\\'s rural poor. He began to live in a self-sufficient residential community, to eat simple food, and undertake long fasts as a means of both introspection and political protest. Bringing anti-colonial nationalism to the common Indians, Gandhi led them in challenging the British-imposed salt tax with the 400 km (250 mi) Dandi Salt March in 1930 and in calling for the British to quit India in 1942. He was imprisoned many times and for many years in both South Africa and India.\\nGandhi\\'s vision of an independent India based on religious pluralism was challenged in the early 1940s by a Muslim nationalism which demanded a separate homeland for Muslims within British India. In August 1947, Britain granted independence, but the British Indian Empire was partitioned into two dominions, a Hindu-majority India and a Muslim-majority Pakistan. As many displaced Hindus, Muslims, and Sikhs made their way to their new lands, religious violence broke out, especially in the Punjab and Bengal. Abstaining from the official celebration of independence, Gandhi visited the affected areas, attempting to alleviate distress. In the months following, he undertook several hunger strikes to stop the religious violence. The last of these was begun in Delhi on 12 January 1948, when Gandhi was 78. The belief that Gandhi had been too resolute in his defence of both Pakistan and Indian Muslims spread among some Hindus in India. Among these was Nathuram Godse, a militant Hindu nationalist from Pune, western India, who assassinated Gandhi by firing three bullets into his chest at an interfaith prayer meeting in Delhi on 30 January 1948. \\nGandhi\\'s birthday, 2 October, is commemorated in India as Gandhi Jayanti, a national holiday, and worldwide as the International Day of Nonviolence. Gandhi is considered to be the Father of the Nation in post-colonial India. During India\\'s nationalist movement and in several decades immediately after, he was also commonly called Bapu (Gujarati endearment for \"father\", roughly \"papa\", \"daddy\").\\n\\n', 'source': 'https://en.wikipedia.org/wiki/Mahatma_Gandhi'}, page_content=\"Mohandas Karamchand Gandhi (ISO: Mōhanadāsa Karamacaṁda Gāṁdhī; 2 October 1869 – 30 January 1948) was an Indian lawyer, anti-colonial nationalist, and political ethicist who employed nonviolent resistance to lead the successful campaign for India's independence from British rule. He inspired movements for civil rights and freedom across the world. The honorific Mahātmā (from Sanskrit 'great-souled, venerable'), first applied to him in South Africa in 1914, is now used throughout the world.\\nBorn and raised in a Hindu family in coastal Gujarat, Gandhi trained in the law at the Inner Temple in London and was called to the bar in June 1891, at the age of 22. After two uncertain years in India, where he was unable to start a successful law practice, Gandhi moved to South Africa in 1893 to represent an Indian merchant in a lawsuit. He went on to live in South Africa for 21 years. There, Gandhi raised a family and first employed nonviolent resistance in a campaign for civil rights. In 1915, aged 45, he returned to India and soon set about organising peasants, farmers, and urban labourers to protest against discrimination and excessive land-tax.\\nAssuming leadership of the Indian National Congress in 1921, Gandhi led nationwide campaigns for easing poverty, expanding women's rights, building religious and ethnic amity, ending untouchability, and, above all, achieving swaraj or self-rule. Gandhi adopted the short dhoti woven with hand-spun yarn as a mark of identification with India's rural poor. He began to live in a self-sufficient residential community, to eat simple food, and undertake long fasts as a means of both introspection and political protest. Bringing anti-colonial nationalism to the common Indians, Gandhi led them in challenging the British-imposed salt tax with the 400 km (250 mi) Dandi Salt March in 1930 and in calling for the British to quit India in 1942. He was imprisoned many times and for many years in both South Africa and India.\\nGandhi's vision of an independent India based on religious pluralism was challenged in the early 1940s by a Muslim nationalism which demanded a separate homeland for Muslims within British India. In August 1947, Britain granted independence, but the British Indian Empire was partitioned into two dominions, a Hindu-majority India and a Muslim-majority Pakistan. As many displaced Hindus, Muslims, and Sikhs made their way to their new lands\")),\n",
              " GraphDocument(nodes=[Node(id='Pakistan', type='Country', properties={}), Node(id='Hindus', type='Religion', properties={}), Node(id='Muslims', type='Religion', properties={}), Node(id='Sikhs', type='Religion', properties={}), Node(id='Gandhi', type='Person', properties={}), Node(id='Punjab', type='Region', properties={}), Node(id='Bengal', type='Region', properties={}), Node(id='Delhi', type='City', properties={}), Node(id='Nathuram Godse', type='Person', properties={}), Node(id='Pune', type='City', properties={})], relationships=[Relationship(source=Node(id='Gandhi', type='Person', properties={}), target=Node(id='Pakistan', type='Country', properties={}), type='DEFENDED', properties={}), Relationship(source=Node(id='Gandhi', type='Person', properties={}), target=Node(id='Muslims', type='Religion', properties={}), type='DEFENDED', properties={}), Relationship(source=Node(id='Gandhi', type='Person', properties={}), target=Node(id='Punjab', type='Region', properties={}), type='AFFECTED', properties={}), Relationship(source=Node(id='Gandhi', type='Person', properties={}), target=Node(id='Bengal', type='Region', properties={}), type='AFFECTED', properties={}), Relationship(source=Node(id='Gandhi', type='Person', properties={}), target=Node(id='Delhi', type='City', properties={}), type='LOCATION', properties={}), Relationship(source=Node(id='Nathuram Godse', type='Person', properties={}), target=Node(id='Gandhi', type='Person', properties={}), type='ASSASSINATED', properties={}), Relationship(source=Node(id='Nathuram Godse', type='Person', properties={}), target=Node(id='Delhi', type='City', properties={}), type='LOCATION', properties={}), Relationship(source=Node(id='Nathuram Godse', type='Person', properties={}), target=Node(id='Pune', type='City', properties={}), type='FROM', properties={})], source=Document(metadata={'title': 'Mahatma Gandhi', 'summary': 'Mohandas Karamchand Gandhi (ISO: Mōhanadāsa Karamacaṁda Gāṁdhī; 2 October 1869 – 30 January 1948) was an Indian lawyer, anti-colonial nationalist, and political ethicist who employed nonviolent resistance to lead the successful campaign for India\\'s independence from British rule. He inspired movements for civil rights and freedom across the world. The honorific Mahātmā (from Sanskrit \\'great-souled, venerable\\'), first applied to him in South Africa in 1914, is now used throughout the world.\\nBorn and raised in a Hindu family in coastal Gujarat, Gandhi trained in the law at the Inner Temple in London and was called to the bar in June 1891, at the age of 22. After two uncertain years in India, where he was unable to start a successful law practice, Gandhi moved to South Africa in 1893 to represent an Indian merchant in a lawsuit. He went on to live in South Africa for 21 years. There, Gandhi raised a family and first employed nonviolent resistance in a campaign for civil rights. In 1915, aged 45, he returned to India and soon set about organising peasants, farmers, and urban labourers to protest against discrimination and excessive land-tax.\\nAssuming leadership of the Indian National Congress in 1921, Gandhi led nationwide campaigns for easing poverty, expanding women\\'s rights, building religious and ethnic amity, ending untouchability, and, above all, achieving swaraj or self-rule. Gandhi adopted the short dhoti woven with hand-spun yarn as a mark of identification with India\\'s rural poor. He began to live in a self-sufficient residential community, to eat simple food, and undertake long fasts as a means of both introspection and political protest. Bringing anti-colonial nationalism to the common Indians, Gandhi led them in challenging the British-imposed salt tax with the 400 km (250 mi) Dandi Salt March in 1930 and in calling for the British to quit India in 1942. He was imprisoned many times and for many years in both South Africa and India.\\nGandhi\\'s vision of an independent India based on religious pluralism was challenged in the early 1940s by a Muslim nationalism which demanded a separate homeland for Muslims within British India. In August 1947, Britain granted independence, but the British Indian Empire was partitioned into two dominions, a Hindu-majority India and a Muslim-majority Pakistan. As many displaced Hindus, Muslims, and Sikhs made their way to their new lands, religious violence broke out, especially in the Punjab and Bengal. Abstaining from the official celebration of independence, Gandhi visited the affected areas, attempting to alleviate distress. In the months following, he undertook several hunger strikes to stop the religious violence. The last of these was begun in Delhi on 12 January 1948, when Gandhi was 78. The belief that Gandhi had been too resolute in his defence of both Pakistan and Indian Muslims spread among some Hindus in India. Among these was Nathuram Godse, a militant Hindu nationalist from Pune, western India, who assassinated Gandhi by firing three bullets into his chest at an interfaith prayer meeting in Delhi on 30 January 1948. \\nGandhi\\'s birthday, 2 October, is commemorated in India as Gandhi Jayanti, a national holiday, and worldwide as the International Day of Nonviolence. Gandhi is considered to be the Father of the Nation in post-colonial India. During India\\'s nationalist movement and in several decades immediately after, he was also commonly called Bapu (Gujarati endearment for \"father\", roughly \"papa\", \"daddy\").\\n\\n', 'source': 'https://en.wikipedia.org/wiki/Mahatma_Gandhi'}, page_content=' and a Muslim-majority Pakistan. As many displaced Hindus, Muslims, and Sikhs made their way to their new lands, religious violence broke out, especially in the Punjab and Bengal. Abstaining from the official celebration of independence, Gandhi visited the affected areas, attempting to alleviate distress. In the months following, he undertook several hunger strikes to stop the religious violence. The last of these was begun in Delhi on 12 January 1948, when Gandhi was 78. The belief that Gandhi had been too resolute in his defence of both Pakistan and Indian Muslims spread among some Hindus in India. Among these was Nathuram Godse, a militant Hindu nationalist from Pune, western India, who assassinated Gandhi by firing three bullets into his chest at an interfaith prayer meeting in Delhi on 30 January 1948. \\nGandhi\\'s birthday, 2 October, is commemorated in India as Gandhi Jayanti, a national holiday, and worldwide as the International Day of Nonviolence. Gandhi is considered to be the Father of the Nation in post-colonial India. During India\\'s nationalist movement and in several decades immediately after, he was also commonly called Bapu (Gujarati endearment for \"father\", roughly \"papa\", \"daddy\").\\n\\n\\n== Early life and background ==\\n\\n\\n=== Parents ===\\nGandhi\\'s father, Karamchand Uttamchand Gandhi (1822–1885), served as the dewan (chief minister) of Porbandar state. His family originated from the then village of Kutiana in what was then Junagadh State. Although Karamchand only had been a clerk in the state administration and had an elementary education, he proved a capable chief minister.\\nDuring his tenure, Karamchand married four times. His first two wives died young, ')),\n",
              " GraphDocument(nodes=[Node(id='Mohandas Karamchand Gandhi', type='Person', properties={}), Node(id='Nathuram Godse', type='Person', properties={}), Node(id='The Birla House', type='Location', properties={}), Node(id='New Delhi', type='Location', properties={}), Node(id='Pune', type='Location', properties={}), Node(id='Maharashtra', type='Location', properties={}), Node(id='Rashtriya Swayamsevak Sangh', type='Organization', properties={}), Node(id='Hindu Mahasabha', type='Organization', properties={}), Node(id='Herbert Reiner Jr', type='Person', properties={}), Node(id='Narayan Apte', type='Person', properties={}), Node(id='Vallabhbhai Patel', type='Person', properties={}), Node(id='Jawaharlal Nehru', type='Person', properties={}), Node(id='Chakravarti Rajagopalachari', type='Person', properties={}), Node(id='Ambala Jail', type='Location', properties={})], relationships=[Relationship(source=Node(id='Mohandas Karamchand Gandhi', type='Person', properties={}), target=Node(id='Nathuram Godse', type='Person', properties={}), type='ASSASSINATED', properties={}), Relationship(source=Node(id='Mohandas Karamchand Gandhi', type='Person', properties={}), target=Node(id='The Birla House', type='Location', properties={}), type='ASSASSINATION_LOCATION', properties={}), Relationship(source=Node(id='Mohandas Karamchand Gandhi', type='Person', properties={}), target=Node(id='New Delhi', type='Location', properties={}), type='ASSASSINATION_LOCATION', properties={}), Relationship(source=Node(id='Nathuram Godse', type='Person', properties={}), target=Node(id='Pune', type='Location', properties={}), type='FROM', properties={}), Relationship(source=Node(id='Nathuram Godse', type='Person', properties={}), target=Node(id='Maharashtra', type='Location', properties={}), type='FROM', properties={}), Relationship(source=Node(id='Nathuram Godse', type='Person', properties={}), target=Node(id='Rashtriya Swayamsevak Sangh', type='Organization', properties={}), type='MEMBER', properties={}), Relationship(source=Node(id='Nathuram Godse', type='Person', properties={}), target=Node(id='Hindu Mahasabha', type='Organization', properties={}), type='MEMBER', properties={}), Relationship(source=Node(id='Mohandas Karamchand Gandhi', type='Person', properties={}), target=Node(id='Herbert Reiner Jr', type='Person', properties={}), type='WITNESS', properties={}), Relationship(source=Node(id='Nathuram Godse', type='Person', properties={}), target=Node(id='Ambala Jail', type='Location', properties={}), type='EXECUTION_LOCATION', properties={}), Relationship(source=Node(id='Nathuram Godse', type='Person', properties={}), target=Node(id='Narayan Apte', type='Person', properties={}), type='CO-DEFENDANT', properties={}), Relationship(source=Node(id='Nathuram Godse', type='Person', properties={}), target=Node(id='Vallabhbhai Patel', type='Person', properties={}), type='DEFENDANT', properties={}), Relationship(source=Node(id='Nathuram Godse', type='Person', properties={}), target=Node(id='Jawaharlal Nehru', type='Person', properties={}), type='DEFENDANT', properties={}), Relationship(source=Node(id='Nathuram Godse', type='Person', properties={}), target=Node(id='Chakravarti Rajagopalachari', type='Person', properties={}), type='DEFENDANT', properties={})], source=Document(metadata={'title': 'Assassination of Mahatma Gandhi', 'summary': 'Mohandas Karamchand Gandhi was assassinated on 30 January 1948 at age 78 in the compound of The Birla House (now Gandhi Smriti), a large mansion in central New Delhi. His assassin was Nathuram Godse, from Pune, Maharashtra, a Hindutva activist, a member of the Rashtriya Swayamsevak Sangh (RSS), a right-wing Hindu paramilitary organization as well as a member of the Hindu Mahasabha.\\nSometime after 5 PM, according to witnesses, Gandhi had reached the top of the steps leading to the raised lawn behind Birla House where he had been conducting multi-faith prayer meetings every evening. As Gandhi began to walk toward the dais, Godse stepped out from the crowd flanking Gandhi\\'s path, and fired three bullets into Gandhi\\'s chest and stomach at point-blank range. Gandhi fell to the ground. He was carried back to his room in Birla House from which a representative emerged sometime later to announce his death.\\nGodse was captured by members of the crowd—the most widely reported of whom was Herbert Reiner Jr, a vice-consul at the American embassy in Delhi—and handed over to the police. The Gandhi murder trial opened in May 1948 in Delhi\\'s historic Red Fort, with Godse the main defendant, and his collaborator Narayan Apte, and six more, deemed co-defendants. The trial was rushed through, the haste sometimes attributed to the home minister Vallabhbhai Patel\\'s desire \"to avoid scrutiny for the failure to prevent the assassination.\" Godse and Apte were sentenced to death on 8 November 1949. Although pleas for commutation were made by Gandhi\\'s two sons, Manilal Gandhi and Ramdas Gandhi, they were turned down by India\\'s prime minister Jawaharlal Nehru, deputy prime minister Vallabhbhai Patel and the Governor-General Chakravarti Rajagopalachari. Godse and Apte were hanged in the Ambala jail on 15 November 1949.\\n\\n', 'source': 'https://en.wikipedia.org/wiki/Assassination_of_Mahatma_Gandhi'}, page_content='Mohandas Karamchand Gandhi was assassinated on 30 January 1948 at age 78 in the compound of The Birla House (now Gandhi Smriti), a large mansion in central New Delhi. His assassin was Nathuram Godse, from Pune, Maharashtra, a Hindutva activist, a member of the Rashtriya Swayamsevak Sangh (RSS), a right-wing Hindu paramilitary organization as well as a member of the Hindu Mahasabha.\\nSometime after 5 PM, according to witnesses, Gandhi had reached the top of the steps leading to the raised lawn behind Birla House where he had been conducting multi-faith prayer meetings every evening. As Gandhi began to walk toward the dais, Godse stepped out from the crowd flanking Gandhi\\'s path, and fired three bullets into Gandhi\\'s chest and stomach at point-blank range. Gandhi fell to the ground. He was carried back to his room in Birla House from which a representative emerged sometime later to announce his death.\\nGodse was captured by members of the crowd—the most widely reported of whom was Herbert Reiner Jr, a vice-consul at the American embassy in Delhi—and handed over to the police. The Gandhi murder trial opened in May 1948 in Delhi\\'s historic Red Fort, with Godse the main defendant, and his collaborator Narayan Apte, and six more, deemed co-defendants. The trial was rushed through, the haste sometimes attributed to the home minister Vallabhbhai Patel\\'s desire \"to avoid scrutiny for the failure to prevent the assassination.\" Godse and Apte were sentenced to death on 8 November 1949. Although pleas for commutation were made by Gandhi\\'s two sons, Manilal Gandhi and Ramdas Gandhi, they were turned down by India\\'s prime minister Jawaharlal Nehru, deputy prime minister Vallabhbhai Patel and the Governor-General Chakravarti Rajagopalachari. Godse and Apte were hanged in the Ambala jail on 15 November 1949.\\n\\n\\n== Preparations ==\\nIn May 1944, Nathuram Vinayak Godse attempted to assassinate Gandhi with a knife. He led a group of 15 to 20 young men who rushed at Gandhi during a prayer meeting at Panchgani. Godse and his group were prevented by the crowds from reaching Gandhi. He was released due to Gandhi\\'s own policy of declining to press criminal charges.\\nIn September 1944, God')),\n",
              " GraphDocument(nodes=[Node(id='Gandhi', type='Person', properties={}), Node(id='Godse', type='Person', properties={})], relationships=[Relationship(source=Node(id='Godse', type='Person', properties={}), target=Node(id='Gandhi', type='Person', properties={}), type='OPPOSED', properties={}), Relationship(source=Node(id='Gandhi', type='Person', properties={}), target=Node(id='Godse', type='Person', properties={}), type='OPPOSED', properties={})], source=Document(metadata={'title': 'Assassination of Mahatma Gandhi', 'summary': 'Mohandas Karamchand Gandhi was assassinated on 30 January 1948 at age 78 in the compound of The Birla House (now Gandhi Smriti), a large mansion in central New Delhi. His assassin was Nathuram Godse, from Pune, Maharashtra, a Hindutva activist, a member of the Rashtriya Swayamsevak Sangh (RSS), a right-wing Hindu paramilitary organization as well as a member of the Hindu Mahasabha.\\nSometime after 5 PM, according to witnesses, Gandhi had reached the top of the steps leading to the raised lawn behind Birla House where he had been conducting multi-faith prayer meetings every evening. As Gandhi began to walk toward the dais, Godse stepped out from the crowd flanking Gandhi\\'s path, and fired three bullets into Gandhi\\'s chest and stomach at point-blank range. Gandhi fell to the ground. He was carried back to his room in Birla House from which a representative emerged sometime later to announce his death.\\nGodse was captured by members of the crowd—the most widely reported of whom was Herbert Reiner Jr, a vice-consul at the American embassy in Delhi—and handed over to the police. The Gandhi murder trial opened in May 1948 in Delhi\\'s historic Red Fort, with Godse the main defendant, and his collaborator Narayan Apte, and six more, deemed co-defendants. The trial was rushed through, the haste sometimes attributed to the home minister Vallabhbhai Patel\\'s desire \"to avoid scrutiny for the failure to prevent the assassination.\" Godse and Apte were sentenced to death on 8 November 1949. Although pleas for commutation were made by Gandhi\\'s two sons, Manilal Gandhi and Ramdas Gandhi, they were turned down by India\\'s prime minister Jawaharlal Nehru, deputy prime minister Vallabhbhai Patel and the Governor-General Chakravarti Rajagopalachari. Godse and Apte were hanged in the Ambala jail on 15 November 1949.\\n\\n', 'source': 'https://en.wikipedia.org/wiki/Assassination_of_Mahatma_Gandhi'}, page_content=\" Gandhi. He was released due to Gandhi's own policy of declining to press criminal charges.\\nIn September 1944, Godse again led another group to block Gandhi's passage from Sevagram to Mumbai. This time Godse was arrested with a dagger and he uttered threats to kill Gandhi. He was released again owing to Gandhi's policy of not pressing criminal charges.\\nIn early September 1947, Gandhi moved to Delhi to help stem the violent rioting there and in the neighboring province of East Punjab. The rioting had come in the wake of the partition of the British Indian empire, which had accompanied the creation of the new independent dominions of India and Pakistan, and involved large, chaotic transfers of population between them.\\nGodse and his assassination accomplices were residents of the Deccan region. Godse had previously led a civil disobedience movement against Osman Ali Khan, the Muslim ruler of the princely Deccan region dominion of Hyderabad State in British India. Godse joined a protest march in 1938 in Hyderabad,   He was arrested for political crimes and served a prison sentence. Once he was out of prison, Godse continued his civil disobedience and worked as a journalist reporting the sufferings of Hindu refugees escaping from Pakistan, and during the various religious riots that erupted in the 1940s.\\nPlans to assassinate Gandhi were initiated by Godse and his accomplices in January 1948, after India and Pakistan had already started a war over Kashmir, due to Godse's disagreement with Gandhi's philosophy of non-violence towards Muslims. But Gandhi opposed the decision and went on a fast-unto-death on 13 January 1948 to pressure the Indian government to release the payment to Pakistan. The Indian government, yielding to Gandhi, reversed its decision. Godse and his colleagues interpreted this sequence of events to be a case of Mahatma Gandhi controlling power and hurting India.\\nOn the day\")),\n",
              " GraphDocument(nodes=[Node(id='Gandhi Family', type='Family', properties={}), Node(id='Mohandas Karamchand Gandhi', type='Person', properties={}), Node(id='Kasturba', type='Person', properties={}), Node(id='Subhas Chandra Bose', type='Person', properties={}), Node(id='Sarojini Naidu', type='Person', properties={}), Node(id='Nehru', type='Person', properties={}), Node(id='Harilal', type='Person', properties={}), Node(id='Manilal', type='Person', properties={}), Node(id='Ramdas', type='Person', properties={}), Node(id='Devdas', type='Person', properties={})], relationships=[Relationship(source=Node(id='Gandhi Family', type='Family', properties={}), target=Node(id='Mohandas Karamchand Gandhi', type='Person', properties={}), type='MEMBER', properties={}), Relationship(source=Node(id='Mohandas Karamchand Gandhi', type='Person', properties={}), target=Node(id='Kasturba', type='Person', properties={}), type='MARRIED', properties={}), Relationship(source=Node(id='Mohandas Karamchand Gandhi', type='Person', properties={}), target=Node(id='Harilal', type='Person', properties={}), type='PARENT', properties={}), Relationship(source=Node(id='Mohandas Karamchand Gandhi', type='Person', properties={}), target=Node(id='Manilal', type='Person', properties={}), type='PARENT', properties={}), Relationship(source=Node(id='Mohandas Karamchand Gandhi', type='Person', properties={}), target=Node(id='Ramdas', type='Person', properties={}), type='PARENT', properties={}), Relationship(source=Node(id='Mohandas Karamchand Gandhi', type='Person', properties={}), target=Node(id='Devdas', type='Person', properties={}), type='PARENT', properties={}), Relationship(source=Node(id='Subhas Chandra Bose', type='Person', properties={}), target=Node(id='Mohandas Karamchand Gandhi', type='Person', properties={}), type='GAVE_TITLE', properties={}), Relationship(source=Node(id='Sarojini Naidu', type='Person', properties={}), target=Node(id='Mohandas Karamchand Gandhi', type='Person', properties={}), type='GAVE_TITLE', properties={}), Relationship(source=Node(id='Nehru', type='Person', properties={}), target=Node(id='Mohandas Karamchand Gandhi', type='Person', properties={}), type='CALLED_BAPU', properties={})], source=Document(metadata={'title': 'Family of Mahatma Gandhi', 'summary': 'The Gandhi family is the family of Mohandas Karamchand Gandhi (2 October 1869 – 30 January 1948), commonly known as Mahatma Gandhi; Mahatma meaning \"high souled\" or \"venerable\" in Sanskrit;  the particular term \\'Mahatma\\' was accorded Mohandas Gandhi for the first time while he was still in South Africa, and not commonly heard as titular for any other civil figure even of similarly rarefied stature or living or posthumous presence.\\nMohandas Gandhi was the leader of the Indian independence movement in British-ruled India. Mohandas Gandhi has been called contemporary, post-colonial sovereign India\\'s Father of the Nation, a title first given to him by Subhas Chandra Bose on 6 July 1944 during Bose\\'s address on the Singapore Radio. On 28 April 1947, Sarojini Naidu too referred to Gandhi with the title Father of the Nation. Mohandas Gandhi is also referred to as Bapu (Gujarati: endearment for \"father\") in India, as prime minister Nehru called him at his funeral. In common parlance in India he is often called Gandhiji; \\'ji\\' being a honorific suffix. Gandhi has also been referred to (mostly by British officials) as Gae-ndy or Ga-ndhi as in Hindi the a makes an \"ah\" sound.\\nIn 1883, Mahatma Gandhi married Kasturba (née Kasturbai Makhanji Kapadia). They had their first baby in 1885, who survived only a few days. The Gandhi couple had four more children, all sons: Harilal, born in 1888; Manilal, born in 1892; Ramdas, born in 1897; and Devdas, born in 1900. Mohandas and Kasturba being third generation members of the cogent strata of this clan in a modern continuous descent, following upon a notable first generation progenitor who was first in the family to hold the office of full Diwan, Prime Minister as the Mahatma translates it, in a princely state, their issue now has notable and active members in their family\\'s seventh generation and continue to be steadily prolific. The Mahatma writes that \"The Gandhis belong to the Bania caste and seem to have been originally grocers.\" \\nPrior to the Mahatma\\'s grandfather being a Prime Minister in two different monarchial states, after a principled falling out with a royal faction in his first state, several generations of the Gandhi men had been Deputy Prime Ministers, if their career status is considered sufficiently notable in this family of political officials, then numeration of their generations as a \\'dynasty\\' of ministers would be several numbers higher. Five generations before the Mahatma\\'s grandfather, Lalji Gandhi (born circa 1674) was the first of 5 successful generations of Naib Diwans of the Princely state of Porbander.\\n\\nThe Nehru-Gandhi family, India\\'s other significant family with surname Gandhi, is unrelated by biology and marriage to the family of Mahatma Gandhi, however the same spelling of \\'Gandhi\\' came into the Nehru-Gandhi family when Jawaharlal Nehru\\'s daughter Indira married politician Feroze Gandhi who had changed the spelling of his surname Ghandy to Gandhi precisely to match that of Mahatma Mohandas Karamchand Gandhi, revered as the \\'father of the Indian nation\\'.\\n\\n', 'source': 'https://en.wikipedia.org/wiki/Family_of_Mahatma_Gandhi'}, page_content='The Gandhi family is the family of Mohandas Karamchand Gandhi (2 October 1869 – 30 January 1948), commonly known as Mahatma Gandhi; Mahatma meaning \"high souled\" or \"venerable\" in Sanskrit;  the particular term \\'Mahatma\\' was accorded Mohandas Gandhi for the first time while he was still in South Africa, and not commonly heard as titular for any other civil figure even of similarly rarefied stature or living or posthumous presence.\\nMohandas Gandhi was the leader of the Indian independence movement in British-ruled India. Mohandas Gandhi has been called contemporary, post-colonial sovereign India\\'s Father of the Nation, a title first given to him by Subhas Chandra Bose on 6 July 1944 during Bose\\'s address on the Singapore Radio. On 28 April 1947, Sarojini Naidu too referred to Gandhi with the title Father of the Nation. Mohandas Gandhi is also referred to as Bapu (Gujarati: endearment for \"father\") in India, as prime minister Nehru called him at his funeral. In common parlance in India he is often called Gandhiji; \\'ji\\' being a honorific suffix. Gandhi has also been referred to (mostly by British officials) as Gae-ndy or Ga-ndhi as in Hindi the a makes an \"ah\" sound.\\nIn 1883, Mahatma Gandhi married Kasturba (née Kasturbai Makhanji Kapadia). They had their first baby in 1885, who survived only a few days. The Gandhi couple had four more children, all sons: Harilal, born in 1888; Manilal, born in 1892; Ramdas, born in 1897; and Devdas, born in 1900. Mohandas and Kasturba being third generation members of the cogent strata of this clan in a modern continuous descent, following upon a notable first generation progenitor who was first in the family to hold the office of full Diwan, Prime Minister as the Mahatma translates it, in a princely state, their issue now has notable and active members in their family\\'s seventh generation and continue to be steadily prolific. The Mahatma writes that \"The Gandhis belong to the Bania caste and seem to have been originally grocers.\" \\nPrior to the Mahatma\\'s grandfather being a Prime Minister in two different monarchial states')),\n",
              " GraphDocument(nodes=[Node(id='Mahatma Gandhi', type='Person', properties={}), Node(id='Lalji Gandhi', type='Person', properties={}), Node(id='Naib Diwans', type='Political official', properties={}), Node(id='Porbander', type='Princely state', properties={}), Node(id='Nehru-Gandhi Family', type='Family', properties={}), Node(id='Jawaharlal Nehru', type='Person', properties={}), Node(id='Indira Gandhi', type='Person', properties={}), Node(id='Feroze Gandhi', type='Person', properties={}), Node(id='Mohandas Karamchand Gandhi', type='Person', properties={})], relationships=[Relationship(source=Node(id='Mahatma Gandhi', type='Person', properties={}), target=Node(id='Lalji Gandhi', type='Person', properties={}), type='FAMILY_RELATION', properties={}), Relationship(source=Node(id='Lalji Gandhi', type='Person', properties={}), target=Node(id='Naib Diwans', type='Political official', properties={}), type='OCCUPATION', properties={}), Relationship(source=Node(id='Naib Diwans', type='Political official', properties={}), target=Node(id='Porbander', type='Princely state', properties={}), type='WORKED_IN', properties={}), Relationship(source=Node(id='Nehru-Gandhi Family', type='Family', properties={}), target=Node(id='Jawaharlal Nehru', type='Person', properties={}), type='FAMILY_RELATION', properties={}), Relationship(source=Node(id='Jawaharlal Nehru', type='Person', properties={}), target=Node(id='Indira Gandhi', type='Person', properties={}), type='FAMILY_RELATION', properties={}), Relationship(source=Node(id='Indira Gandhi', type='Person', properties={}), target=Node(id='Feroze Gandhi', type='Person', properties={}), type='MARRIAGE', properties={}), Relationship(source=Node(id='Feroze Gandhi', type='Person', properties={}), target=Node(id='Mohandas Karamchand Gandhi', type='Person', properties={}), type='SURNAME_CHANGE', properties={})], source=Document(metadata={'title': 'Family of Mahatma Gandhi', 'summary': 'The Gandhi family is the family of Mohandas Karamchand Gandhi (2 October 1869 – 30 January 1948), commonly known as Mahatma Gandhi; Mahatma meaning \"high souled\" or \"venerable\" in Sanskrit;  the particular term \\'Mahatma\\' was accorded Mohandas Gandhi for the first time while he was still in South Africa, and not commonly heard as titular for any other civil figure even of similarly rarefied stature or living or posthumous presence.\\nMohandas Gandhi was the leader of the Indian independence movement in British-ruled India. Mohandas Gandhi has been called contemporary, post-colonial sovereign India\\'s Father of the Nation, a title first given to him by Subhas Chandra Bose on 6 July 1944 during Bose\\'s address on the Singapore Radio. On 28 April 1947, Sarojini Naidu too referred to Gandhi with the title Father of the Nation. Mohandas Gandhi is also referred to as Bapu (Gujarati: endearment for \"father\") in India, as prime minister Nehru called him at his funeral. In common parlance in India he is often called Gandhiji; \\'ji\\' being a honorific suffix. Gandhi has also been referred to (mostly by British officials) as Gae-ndy or Ga-ndhi as in Hindi the a makes an \"ah\" sound.\\nIn 1883, Mahatma Gandhi married Kasturba (née Kasturbai Makhanji Kapadia). They had their first baby in 1885, who survived only a few days. The Gandhi couple had four more children, all sons: Harilal, born in 1888; Manilal, born in 1892; Ramdas, born in 1897; and Devdas, born in 1900. Mohandas and Kasturba being third generation members of the cogent strata of this clan in a modern continuous descent, following upon a notable first generation progenitor who was first in the family to hold the office of full Diwan, Prime Minister as the Mahatma translates it, in a princely state, their issue now has notable and active members in their family\\'s seventh generation and continue to be steadily prolific. The Mahatma writes that \"The Gandhis belong to the Bania caste and seem to have been originally grocers.\" \\nPrior to the Mahatma\\'s grandfather being a Prime Minister in two different monarchial states, after a principled falling out with a royal faction in his first state, several generations of the Gandhi men had been Deputy Prime Ministers, if their career status is considered sufficiently notable in this family of political officials, then numeration of their generations as a \\'dynasty\\' of ministers would be several numbers higher. Five generations before the Mahatma\\'s grandfather, Lalji Gandhi (born circa 1674) was the first of 5 successful generations of Naib Diwans of the Princely state of Porbander.\\n\\nThe Nehru-Gandhi family, India\\'s other significant family with surname Gandhi, is unrelated by biology and marriage to the family of Mahatma Gandhi, however the same spelling of \\'Gandhi\\' came into the Nehru-Gandhi family when Jawaharlal Nehru\\'s daughter Indira married politician Feroze Gandhi who had changed the spelling of his surname Ghandy to Gandhi precisely to match that of Mahatma Mohandas Karamchand Gandhi, revered as the \\'father of the Indian nation\\'.\\n\\n', 'source': 'https://en.wikipedia.org/wiki/Family_of_Mahatma_Gandhi'}, page_content=' originally grocers.\" \\nPrior to the Mahatma\\'s grandfather being a Prime Minister in two different monarchial states, after a principled falling out with a royal faction in his first state, several generations of the Gandhi men had been Deputy Prime Ministers, if their career status is considered sufficiently notable in this family of political officials, then numeration of their generations as a \\'dynasty\\' of ministers would be several numbers higher. Five generations before the Mahatma\\'s grandfather, Lalji Gandhi (born circa 1674) was the first of 5 successful generations of Naib Diwans of the Princely state of Porbander.\\n\\nThe Nehru-Gandhi family, India\\'s other significant family with surname Gandhi, is unrelated by biology and marriage to the family of Mahatma Gandhi, however the same spelling of \\'Gandhi\\' came into the Nehru-Gandhi family when Jawaharlal Nehru\\'s daughter Indira married politician Feroze Gandhi who had changed the spelling of his surname Ghandy to Gandhi precisely to match that of Mahatma Mohandas Karamchand Gandhi, revered as the \\'father of the Indian nation\\'.\\n\\n\\n== Etymology ==\\nGandhi: \"perfume seller,\" from Hindi gandh, \"sandalwood\"\\nThe Gandhi surname came into the separate Nehru-Gandhi family from Feroze Gandhi, a politician of Gujarati Parsi ancestry, who, after joining the independence movement, changed the spelling of his surname from Ghandy to Gandhi, to match that of the family of Mahatma Gandhi despite not being related biologically nor by marriage nor formal adoption. \\nIn the case of the Mahatma Gandhi, Mohandas Karamchand Gandhi: Mahatma, Sanskrit, \"high souled\" or \"venerable\" is the particular term accorded Mohandas Gandhi for the first time while he was still in South Africa, and not commonly heard as titular for any other civil figure even of similarly rarefied stature or living or posthumous presence. Mohandas Gandhi is also referred to as Bapu (Gujarati: endearment for \"father\") in India, as prime minister Nehru called him at his funeral. In common parlance '))]"
            ]
          },
          "metadata": {},
          "execution_count": 33
        }
      ]
    },
    {
      "cell_type": "code",
      "source": [
        "\n",
        "graph.add_graph_documents(\n",
        "    graph_documents,\n",
        "    baseEntityLabel=True,\n",
        "    include_source=True\n",
        ")"
      ],
      "metadata": {
        "id": "win67QW4M9gc"
      },
      "execution_count": 34,
      "outputs": []
    },
    {
      "cell_type": "code",
      "source": [
        "# directly show the graph resulting from the given Cypher query\n",
        "default_cypher = \"MATCH (s)-[r:!MENTIONS]->(t) RETURN s,r,t LIMIT 50\""
      ],
      "metadata": {
        "id": "j3SaaYEVPWKd"
      },
      "execution_count": 35,
      "outputs": []
    },
    {
      "cell_type": "code",
      "source": [
        "default_cypher"
      ],
      "metadata": {
        "colab": {
          "base_uri": "https://localhost:8080/",
          "height": 35
        },
        "id": "nq-ueASiPWOm",
        "outputId": "9bc146b9-dd41-4017-9d60-06b4d20e9990"
      },
      "execution_count": 36,
      "outputs": [
        {
          "output_type": "execute_result",
          "data": {
            "text/plain": [
              "'MATCH (s)-[r:!MENTIONS]->(t) RETURN s,r,t LIMIT 50'"
            ],
            "application/vnd.google.colaboratory.intrinsic+json": {
              "type": "string"
            }
          },
          "metadata": {},
          "execution_count": 36
        }
      ]
    },
    {
      "cell_type": "code",
      "source": [
        "from yfiles_jupyter_graphs import GraphWidget\n",
        "from neo4j import GraphDatabase"
      ],
      "metadata": {
        "id": "c317S-M9PkOd"
      },
      "execution_count": 37,
      "outputs": []
    },
    {
      "cell_type": "code",
      "source": [
        "try:\n",
        "  import google.colab\n",
        "  from google.colab import output\n",
        "  output.enable_custom_widget_manager()\n",
        "except:\n",
        "  pass"
      ],
      "metadata": {
        "id": "cpcz3YKIPkR2"
      },
      "execution_count": 38,
      "outputs": []
    },
    {
      "cell_type": "code",
      "source": [
        "def showGraph(cypher: str = default_cypher):\n",
        "    # create a neo4j session to run queries\n",
        "    driver = GraphDatabase.driver(\n",
        "        uri = os.environ[\"NEO4J_URI\"],\n",
        "        auth = (os.environ[\"NEO4J_USERNAME\"],\n",
        "                os.environ[\"NEO4J_PASSWORD\"]))\n",
        "    session = driver.session()\n",
        "    widget = GraphWidget(graph = session.run(cypher).graph())\n",
        "    widget.node_label_mapping = 'id'\n",
        "    display(widget)\n",
        "    return widget"
      ],
      "metadata": {
        "id": "DkCcqHvVPkVw"
      },
      "execution_count": 39,
      "outputs": []
    },
    {
      "cell_type": "code",
      "source": [
        "showGraph()"
      ],
      "metadata": {
        "colab": {
          "base_uri": "https://localhost:8080/",
          "height": 1000,
          "referenced_widgets": [
            "547b047a49a446ba8a728ff196bbddd2",
            "e819b38f36084258bf63aabde6841a61"
          ]
        },
        "id": "52YYr0OVPkZp",
        "outputId": "21451c99-e989-45f0-f29e-55272bcb0e4b"
      },
      "execution_count": 40,
      "outputs": [
        {
          "output_type": "display_data",
          "data": {
            "text/plain": [
              "GraphWidget(layout=Layout(height='800px', width='100%'))"
            ],
            "application/vnd.jupyter.widget-view+json": {
              "version_major": 2,
              "version_minor": 0,
              "model_id": "547b047a49a446ba8a728ff196bbddd2"
            }
          },
          "metadata": {
            "application/vnd.jupyter.widget-view+json": {
              "colab": {
                "custom_widget_manager": {
                  "url": "https://ssl.gstatic.com/colaboratory-static/widgets/colab-cdn-widget-manager/2b70e893a8ba7c0f/manager.min.js"
                }
              }
            }
          }
        },
        {
          "output_type": "display_data",
          "data": {
            "text/plain": [
              "GraphWidget(layout=Layout(height='800px', width='100%'))"
            ],
            "application/vnd.jupyter.widget-view+json": {
              "version_major": 2,
              "version_minor": 0,
              "model_id": "547b047a49a446ba8a728ff196bbddd2"
            }
          },
          "metadata": {
            "application/vnd.jupyter.widget-view+json": {
              "colab": {
                "custom_widget_manager": {
                  "url": "https://ssl.gstatic.com/colaboratory-static/widgets/colab-cdn-widget-manager/2b70e893a8ba7c0f/manager.min.js"
                }
              }
            }
          }
        }
      ]
    },
    {
      "cell_type": "code",
      "source": [
        "from typing import Tuple, List, Optional"
      ],
      "metadata": {
        "id": "mZWbuPJqPkdp"
      },
      "execution_count": 42,
      "outputs": []
    },
    {
      "cell_type": "code",
      "source": [
        "from langchain_community.vectorstores import Neo4jVector"
      ],
      "metadata": {
        "id": "Jg8MUU4nPWSX"
      },
      "execution_count": 43,
      "outputs": []
    },
    {
      "cell_type": "code",
      "source": [],
      "metadata": {
        "id": "cceYxs02ejKC"
      },
      "execution_count": null,
      "outputs": []
    },
    {
      "cell_type": "code",
      "source": [
        "from langchain_openai import OpenAIEmbeddings\n",
        "vector_index = Neo4jVector.from_existing_graph(\n",
        "    OpenAIEmbeddings(),\n",
        "    search_type=\"hybrid\",\n",
        "    node_label=\"Document\",\n",
        "    text_node_properties=[\"text\"],\n",
        "    embedding_node_property=\"embedding\"\n",
        ")"
      ],
      "metadata": {
        "id": "q2ffYR2ZQkp-"
      },
      "execution_count": 44,
      "outputs": []
    },
    {
      "cell_type": "code",
      "source": [
        "\n",
        "graph.query(\"CREATE FULLTEXT INDEX entity IF NOT EXISTS FOR (e:__Entity__) ON EACH [e.id]\")"
      ],
      "metadata": {
        "colab": {
          "base_uri": "https://localhost:8080/"
        },
        "id": "2PlJSHEAQkuQ",
        "outputId": "9c0d314d-8abe-4074-ab1b-10daf42fbdec"
      },
      "execution_count": 45,
      "outputs": [
        {
          "output_type": "execute_result",
          "data": {
            "text/plain": [
              "[]"
            ]
          },
          "metadata": {},
          "execution_count": 45
        }
      ]
    },
    {
      "cell_type": "code",
      "source": [
        "from langchain_core.pydantic_v1 import BaseModel, Field\n",
        "# Extract entities from text\n",
        "class Entities(BaseModel):\n",
        "    \"\"\"Identifying information about entities.\"\"\"\n",
        "\n",
        "    names: List[str] = Field(\n",
        "        ...,\n",
        "        description=\"All the person, organization, or business entities that \"\n",
        "        \"appear in the text\",\n",
        "    )\n"
      ],
      "metadata": {
        "colab": {
          "base_uri": "https://localhost:8080/"
        },
        "id": "5HDsMMgZQkyA",
        "outputId": "153e3f5a-c365-43fc-eb21-e3a48c3a2834"
      },
      "execution_count": 46,
      "outputs": [
        {
          "output_type": "stream",
          "name": "stderr",
          "text": [
            "/usr/local/lib/python3.10/dist-packages/IPython/core/interactiveshell.py:3553: LangChainDeprecationWarning: As of langchain-core 0.3.0, LangChain uses pydantic v2 internally. The langchain_core.pydantic_v1 module was a compatibility shim for pydantic v1, and should no longer be used. Please update the code to import from Pydantic directly.\n",
            "\n",
            "For example, replace imports like: `from langchain_core.pydantic_v1 import BaseModel`\n",
            "with: `from pydantic import BaseModel`\n",
            "or the v1 compatibility namespace if you are working in a code base that has not been fully upgraded to pydantic 2 yet. \tfrom pydantic.v1 import BaseModel\n",
            "\n",
            "  exec(code_obj, self.user_global_ns, self.user_ns)\n"
          ]
        }
      ]
    },
    {
      "cell_type": "code",
      "source": [
        "\n",
        "from langchain_core.prompts import ChatPromptTemplate\n",
        "from langchain_core.prompts.prompt import PromptTemplate"
      ],
      "metadata": {
        "id": "MRDs9fUBQk2D"
      },
      "execution_count": 47,
      "outputs": []
    },
    {
      "cell_type": "code",
      "source": [
        "prompt = ChatPromptTemplate.from_messages(\n",
        "    [\n",
        "        (\n",
        "            \"system\",\n",
        "            \"You are extracting organization and person entities from the text.\",\n",
        "        ),\n",
        "        (\n",
        "            \"human\",\n",
        "            \"Use the given format to extract information from the following \"\n",
        "            \"input: {question}\",\n",
        "        ),\n",
        "    ]\n",
        ")\n"
      ],
      "metadata": {
        "id": "pTbdWfhmQ4Q6"
      },
      "execution_count": 48,
      "outputs": []
    },
    {
      "cell_type": "code",
      "source": [
        "entity_chain = prompt | llm.with_structured_output(Entities)"
      ],
      "metadata": {
        "id": "b2sBKNifQ4VC"
      },
      "execution_count": 50,
      "outputs": []
    },
    {
      "cell_type": "code",
      "source": [
        "entity_chain.invoke({\"question\": \"When Elizabeth I was  born?\"}).names"
      ],
      "metadata": {
        "colab": {
          "base_uri": "https://localhost:8080/"
        },
        "id": "PWCl0-liQ4ZM",
        "outputId": "90c7bb8a-2f5c-4a29-a8f1-f4ba4b46d6fb"
      },
      "execution_count": 52,
      "outputs": [
        {
          "output_type": "execute_result",
          "data": {
            "text/plain": [
              "['Elizabeth I']"
            ]
          },
          "metadata": {},
          "execution_count": 52
        }
      ]
    },
    {
      "cell_type": "code",
      "source": [
        "from langchain_community.vectorstores.neo4j_vector import remove_lucene_chars"
      ],
      "metadata": {
        "id": "hgkfIIBEQ4ds"
      },
      "execution_count": 53,
      "outputs": []
    },
    {
      "cell_type": "code",
      "source": [
        "\n",
        "def generate_full_text_query(input: str) -> str:\n",
        "    full_text_query = \"\"\n",
        "    words = [el for el in remove_lucene_chars(input).split() if el]\n",
        "    for word in words[:-1]:\n",
        "        full_text_query += f\" {word}~2 AND\"\n",
        "    full_text_query += f\" {words[-1]}~2\"\n",
        "    return full_text_query.strip()"
      ],
      "metadata": {
        "id": "puMLwcqDPWWR"
      },
      "execution_count": 54,
      "outputs": []
    },
    {
      "cell_type": "code",
      "source": [
        "# Fulltext index query\n",
        "def structured_retriever(question: str) -> str:\n",
        "    result = \"\"\n",
        "    entities = entity_chain.invoke({\"question\": question})\n",
        "    for entity in entities.names:\n",
        "        response = graph.query(\n",
        "            \"\"\"CALL db.index.fulltext.queryNodes('entity', $query, {limit:2})\n",
        "            YIELD node,score\n",
        "            CALL {\n",
        "              WITH node\n",
        "              MATCH (node)-[r:!MENTIONS]->(neighbor)\n",
        "              RETURN node.id + ' - ' + type(r) + ' -> ' + neighbor.id AS output\n",
        "              UNION ALL\n",
        "              WITH node\n",
        "              MATCH (node)<-[r:!MENTIONS]-(neighbor)\n",
        "              RETURN neighbor.id + ' - ' + type(r) + ' -> ' +  node.id AS output\n",
        "            }\n",
        "            RETURN output LIMIT 50\n",
        "            \"\"\",\n",
        "            {\"query\": generate_full_text_query(entity)},\n",
        "        )\n",
        "        result += \"\\n\".join([el['output'] for el in response])\n",
        "    return result"
      ],
      "metadata": {
        "id": "KtB1cEs0RR-R"
      },
      "execution_count": 55,
      "outputs": []
    },
    {
      "cell_type": "code",
      "source": [
        "print(structured_retriever(\"Who is Mahatma Gandhi ?\"))"
      ],
      "metadata": {
        "colab": {
          "base_uri": "https://localhost:8080/"
        },
        "id": "vE4zFtMnRSC-",
        "outputId": "0fbf785d-1d81-4582-a548-15aa4b5f0284"
      },
      "execution_count": 57,
      "outputs": [
        {
          "output_type": "stream",
          "name": "stderr",
          "text": [
            "WARNING:neo4j.notifications:Received notification from DBMS server: {severity: WARNING} {code: Neo.ClientNotification.Statement.FeatureDeprecationWarning} {category: DEPRECATION} {title: This feature is deprecated and will be removed in future versions.} {description: CALL subquery without a variable scope clause is now deprecated. Use CALL (node, node) { ... }} {position: line: 3, column: 13, offset: 104} for query: \"CALL db.index.fulltext.queryNodes('entity', $query, {limit:2})\\n            YIELD node,score\\n            CALL {\\n              WITH node\\n              MATCH (node)-[r:!MENTIONS]->(neighbor)\\n              RETURN node.id + ' - ' + type(r) + ' -> ' + neighbor.id AS output\\n              UNION ALL\\n              WITH node\\n              MATCH (node)<-[r:!MENTIONS]-(neighbor)\\n              RETURN neighbor.id + ' - ' + type(r) + ' -> ' +  node.id AS output\\n            }\\n            RETURN output LIMIT 50\\n            \"\n"
          ]
        },
        {
          "output_type": "stream",
          "name": "stdout",
          "text": [
            "Mahatma Gandhi - FAMILY_RELATION -> Lalji Gandhi\n"
          ]
        }
      ]
    },
    {
      "cell_type": "code",
      "source": [
        "def retriever(question: str):\n",
        "    print(f\"Search query: {question}\")\n",
        "    structured_data = structured_retriever(question)\n",
        "    unstructured_data = [el.page_content for el in vector_index.similarity_search(question)]\n",
        "    final_data = f\"\"\"Structured data:\n",
        "{structured_data}\n",
        "Unstructured data:\n",
        "{\"#Document \". join(unstructured_data)}\n",
        "    \"\"\"\n",
        "    return final_data"
      ],
      "metadata": {
        "id": "_vYTSAtdRSGv"
      },
      "execution_count": 58,
      "outputs": []
    },
    {
      "cell_type": "code",
      "source": [
        "_template = \"\"\"Given the following conversation and a follow up question, rephrase the follow up question to be a standalone question,\n",
        "in its original language.\n",
        "Chat History:\n",
        "{chat_history}\n",
        "Follow Up Input: {question}\n",
        "Standalone question:\"\"\""
      ],
      "metadata": {
        "id": "mFVKpa2URSLO"
      },
      "execution_count": 59,
      "outputs": []
    },
    {
      "cell_type": "code",
      "source": [
        "CONDENSE_QUESTION_PROMPT = PromptTemplate.from_template(_template)\n"
      ],
      "metadata": {
        "id": "tAsT44GsRtuq"
      },
      "execution_count": 60,
      "outputs": []
    },
    {
      "cell_type": "code",
      "source": [
        "def _format_chat_history(chat_history: List[Tuple[str, str]]) -> List:\n",
        "    buffer = []\n",
        "    for human, ai in chat_history:\n",
        "        buffer.append(HumanMessage(content=human))\n",
        "        buffer.append(AIMessage(content=ai))\n",
        "    return buffer"
      ],
      "metadata": {
        "id": "uACq1HFNRtza"
      },
      "execution_count": 61,
      "outputs": []
    },
    {
      "cell_type": "code",
      "source": [
        "\n",
        "_search_query = RunnableBranch(\n",
        "    # If input includes chat_history, we condense it with the follow-up question\n",
        "    (\n",
        "        RunnableLambda(lambda x: bool(x.get(\"chat_history\"))).with_config(\n",
        "            run_name=\"HasChatHistoryCheck\"\n",
        "        ),  # Condense follow-up question and chat into a standalone_question\n",
        "        RunnablePassthrough.assign(\n",
        "            chat_history=lambda x: _format_chat_history(x[\"chat_history\"])\n",
        "        )\n",
        "        | CONDENSE_QUESTION_PROMPT\n",
        "        | ChatOpenAI(temperature=0)\n",
        "        | StrOutputParser(),\n",
        "    ),\n",
        "    # Else, we have no chat history, so just pass through the question\n",
        "    RunnableLambda(lambda x : x[\"question\"]),\n",
        ")"
      ],
      "metadata": {
        "id": "RuZgE2RgRt3V"
      },
      "execution_count": 65,
      "outputs": []
    },
    {
      "cell_type": "code",
      "source": [
        "template = \"\"\"Answer the question based only on the following context:\n",
        "{context}\n",
        "\n",
        "Question: {question}\n",
        "Use natural language and be concise.\n",
        "Answer:\"\"\""
      ],
      "metadata": {
        "id": "OybnMGddRt7K"
      },
      "execution_count": 62,
      "outputs": []
    },
    {
      "cell_type": "code",
      "source": [
        "\n",
        "prompt = ChatPromptTemplate.from_template(template)"
      ],
      "metadata": {
        "id": "qKLUcufESBmW"
      },
      "execution_count": 63,
      "outputs": []
    },
    {
      "cell_type": "code",
      "source": [
        "chain = (\n",
        "    RunnableParallel(\n",
        "        {\n",
        "            \"context\": _search_query | retriever,\n",
        "            \"question\": RunnablePassthrough(),\n",
        "        }\n",
        "    )\n",
        "    | prompt\n",
        "    | llm\n",
        "    | StrOutputParser()\n",
        ")"
      ],
      "metadata": {
        "id": "EkDJdx-3SBqf"
      },
      "execution_count": 66,
      "outputs": []
    },
    {
      "cell_type": "code",
      "source": [
        "chain.invoke({\"question\": \"Tell me about childhood life of Mahatma Gandhi?\"})"
      ],
      "metadata": {
        "colab": {
          "base_uri": "https://localhost:8080/",
          "height": 177
        },
        "id": "PDm1FkT0SBuG",
        "outputId": "27e29b60-716d-4ad9-cf4b-ee6bd01fa070"
      },
      "execution_count": 67,
      "outputs": [
        {
          "output_type": "stream",
          "name": "stdout",
          "text": [
            "Search query: Tell me about childhood life of Mahatma Gandhi?\n"
          ]
        },
        {
          "output_type": "stream",
          "name": "stderr",
          "text": [
            "WARNING:neo4j.notifications:Received notification from DBMS server: {severity: WARNING} {code: Neo.ClientNotification.Statement.FeatureDeprecationWarning} {category: DEPRECATION} {title: This feature is deprecated and will be removed in future versions.} {description: CALL subquery without a variable scope clause is now deprecated. Use CALL (node, node) { ... }} {position: line: 3, column: 13, offset: 104} for query: \"CALL db.index.fulltext.queryNodes('entity', $query, {limit:2})\\n            YIELD node,score\\n            CALL {\\n              WITH node\\n              MATCH (node)-[r:!MENTIONS]->(neighbor)\\n              RETURN node.id + ' - ' + type(r) + ' -> ' + neighbor.id AS output\\n              UNION ALL\\n              WITH node\\n              MATCH (node)<-[r:!MENTIONS]-(neighbor)\\n              RETURN neighbor.id + ' - ' + type(r) + ' -> ' +  node.id AS output\\n            }\\n            RETURN output LIMIT 50\\n            \"\n",
            "WARNING:neo4j.notifications:Received notification from DBMS server: {severity: WARNING} {code: Neo.ClientNotification.Statement.FeatureDeprecationWarning} {category: DEPRECATION} {title: This feature is deprecated and will be removed in future versions.} {description: CALL subquery without a variable scope clause is now deprecated. Use CALL () { ... }} {position: line: 1, column: 1, offset: 0} for query: \"CALL { CALL db.index.vector.queryNodes($index, $k, $embedding) YIELD node, score WITH collect({node:node, score:score}) AS nodes, max(score) AS max UNWIND nodes AS n RETURN n.node AS node, (n.score / max) AS score UNION CALL db.index.fulltext.queryNodes($keyword_index, $query, {limit: $k}) YIELD node, score WITH collect({node:node, score:score}) AS nodes, max(score) AS max UNWIND nodes AS n RETURN n.node AS node, (n.score / max) AS score } WITH node, max(score) AS score ORDER BY score DESC LIMIT $k RETURN reduce(str='', k IN ['text'] | str + '\\\\n' + k + ': ' + coalesce(node[k], '')) AS text, node {.*, `embedding`: Null, id: Null, `text`: Null} AS metadata, score\"\n"
          ]
        },
        {
          "output_type": "execute_result",
          "data": {
            "text/plain": [
              "\"Mahatma Gandhi was born on October 2, 1869, in coastal Gujarat, India. He was raised in a Hindu family and trained in law in London. Gandhi faced discrimination and excessive land-tax in South Africa, where he first used nonviolent resistance. He returned to India in 1915 and led campaigns for civil rights, poverty alleviation, and self-rule. Gandhi's vision of an independent India was challenged by Muslim nationalism, leading to the partition of India in 1947. He was assassinated in 1948 by a Hindu nationalist. Gandhi is considered the Father of the Nation in India and his birthday is celebrated as Gandhi Jayanti.\""
            ],
            "application/vnd.google.colaboratory.intrinsic+json": {
              "type": "string"
            }
          },
          "metadata": {},
          "execution_count": 67
        }
      ]
    },
    {
      "cell_type": "code",
      "source": [
        "chain.invoke(\n",
        "    {\n",
        "        \"question\": \"When was he born?\",\n",
        "        \"chat_history\": [(\"Tell me about childhood life of Mahatma Gandhi?\", \"Gujarat\")],\n",
        "    }\n",
        ")"
      ],
      "metadata": {
        "colab": {
          "base_uri": "https://localhost:8080/",
          "height": 107
        },
        "id": "HejklpIsSByN",
        "outputId": "e90925da-fa85-4f4f-d163-18b3723abe80"
      },
      "execution_count": 68,
      "outputs": [
        {
          "output_type": "stream",
          "name": "stdout",
          "text": [
            "Search query: When was Mahatma Gandhi born?\n"
          ]
        },
        {
          "output_type": "stream",
          "name": "stderr",
          "text": [
            "WARNING:neo4j.notifications:Received notification from DBMS server: {severity: WARNING} {code: Neo.ClientNotification.Statement.FeatureDeprecationWarning} {category: DEPRECATION} {title: This feature is deprecated and will be removed in future versions.} {description: CALL subquery without a variable scope clause is now deprecated. Use CALL (node, node) { ... }} {position: line: 3, column: 13, offset: 104} for query: \"CALL db.index.fulltext.queryNodes('entity', $query, {limit:2})\\n            YIELD node,score\\n            CALL {\\n              WITH node\\n              MATCH (node)-[r:!MENTIONS]->(neighbor)\\n              RETURN node.id + ' - ' + type(r) + ' -> ' + neighbor.id AS output\\n              UNION ALL\\n              WITH node\\n              MATCH (node)<-[r:!MENTIONS]-(neighbor)\\n              RETURN neighbor.id + ' - ' + type(r) + ' -> ' +  node.id AS output\\n            }\\n            RETURN output LIMIT 50\\n            \"\n",
            "WARNING:neo4j.notifications:Received notification from DBMS server: {severity: WARNING} {code: Neo.ClientNotification.Statement.FeatureDeprecationWarning} {category: DEPRECATION} {title: This feature is deprecated and will be removed in future versions.} {description: CALL subquery without a variable scope clause is now deprecated. Use CALL () { ... }} {position: line: 1, column: 1, offset: 0} for query: \"CALL { CALL db.index.vector.queryNodes($index, $k, $embedding) YIELD node, score WITH collect({node:node, score:score}) AS nodes, max(score) AS max UNWIND nodes AS n RETURN n.node AS node, (n.score / max) AS score UNION CALL db.index.fulltext.queryNodes($keyword_index, $query, {limit: $k}) YIELD node, score WITH collect({node:node, score:score}) AS nodes, max(score) AS max UNWIND nodes AS n RETURN n.node AS node, (n.score / max) AS score } WITH node, max(score) AS score ORDER BY score DESC LIMIT $k RETURN reduce(str='', k IN ['text'] | str + '\\\\n' + k + ': ' + coalesce(node[k], '')) AS text, node {.*, `embedding`: Null, id: Null, `text`: Null} AS metadata, score\"\n"
          ]
        },
        {
          "output_type": "execute_result",
          "data": {
            "text/plain": [
              "'Mahatma Gandhi was born on October 2, 1869.'"
            ],
            "application/vnd.google.colaboratory.intrinsic+json": {
              "type": "string"
            }
          },
          "metadata": {},
          "execution_count": 68
        }
      ]
    },
    {
      "cell_type": "code",
      "source": [],
      "metadata": {
        "id": "0mUW2kqwSB1y"
      },
      "execution_count": null,
      "outputs": []
    },
    {
      "cell_type": "code",
      "source": [],
      "metadata": {
        "id": "JKOOYyriSB55"
      },
      "execution_count": null,
      "outputs": []
    },
    {
      "cell_type": "code",
      "source": [],
      "metadata": {
        "id": "Wx0XWxuRRt_K"
      },
      "execution_count": null,
      "outputs": []
    }
  ]
}